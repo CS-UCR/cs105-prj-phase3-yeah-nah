{
 "nbformat": 4,
 "nbformat_minor": 2,
 "metadata": {
  "language_info": {
   "name": "python",
   "codemirror_mode": {
    "name": "ipython",
    "version": 3
   },
   "version": "3.8.1-final"
  },
  "orig_nbformat": 2,
  "file_extension": ".py",
  "mimetype": "text/x-python",
  "name": "python",
  "npconvert_exporter": "python",
  "pygments_lexer": "ipython3",
  "version": 3,
  "kernelspec": {
   "name": "python38132bit85bd24598f7e4575af25ce7fa37bd907",
   "display_name": "Python 3.8.1 32-bit"
  }
 },
 "cells": [
  {
   "cell_type": "markdown",
   "metadata": {},
   "source": [
    "# Machine Learning"
   ]
  },
  {
   "cell_type": "code",
   "execution_count": 1,
   "metadata": {},
   "outputs": [],
   "source": [
    "import pandas as pd\n",
    "from sklearn.preprocessing import StandardScaler\n",
    "from sklearn.pipeline import Pipeline\n",
    "from sklearn.linear_model import LogisticRegression\n",
    "from sklearn.model_selection import train_test_split\n",
    "from sklearn.metrics import classification_report\n",
    "from sklearn import svm\n",
    "from sklearn import tree\n",
    "import numpy as np"
   ]
  },
  {
   "cell_type": "markdown",
   "metadata": {},
   "source": [
    "Read in eda dataframe ('significant data' used as discussed in EDA notebook)"
   ]
  },
  {
   "cell_type": "code",
   "execution_count": 2,
   "metadata": {},
   "outputs": [
    {
     "data": {
      "text/html": "<div>\n<style scoped>\n    .dataframe tbody tr th:only-of-type {\n        vertical-align: middle;\n    }\n\n    .dataframe tbody tr th {\n        vertical-align: top;\n    }\n\n    .dataframe thead th {\n        text-align: right;\n    }\n</style>\n<table border=\"1\" class=\"dataframe\">\n  <thead>\n    <tr style=\"text-align: right;\">\n      <th></th>\n      <th>id</th>\n      <th>fixture_id</th>\n      <th>G</th>\n      <th>A</th>\n      <th>CS</th>\n      <th>gw</th>\n      <th>MP</th>\n      <th>I</th>\n      <th>C</th>\n      <th>T</th>\n      <th>ICT</th>\n      <th>team</th>\n      <th>opp</th>\n      <th>home</th>\n      <th>opp_att</th>\n      <th>opp_def</th>\n      <th>att</th>\n      <th>def</th>\n      <th>Sh90</th>\n      <th>KP90</th>\n    </tr>\n  </thead>\n  <tbody>\n    <tr>\n      <th>0</th>\n      <td>14.0</td>\n      <td>10</td>\n      <td>0.0</td>\n      <td>0.0</td>\n      <td>1.0</td>\n      <td>1.0</td>\n      <td>90.0</td>\n      <td>18.0</td>\n      <td>0.0</td>\n      <td>0.0</td>\n      <td>1.8</td>\n      <td>1.0</td>\n      <td>13.0</td>\n      <td>False</td>\n      <td>1040.0</td>\n      <td>1020.0</td>\n      <td>1190.0</td>\n      <td>1330.0</td>\n      <td>0.0</td>\n      <td>0.0</td>\n    </tr>\n    <tr>\n      <th>1</th>\n      <td>4.0</td>\n      <td>10</td>\n      <td>0.0</td>\n      <td>1.0</td>\n      <td>1.0</td>\n      <td>1.0</td>\n      <td>90.0</td>\n      <td>38.4</td>\n      <td>12.3</td>\n      <td>0.0</td>\n      <td>5.1</td>\n      <td>1.0</td>\n      <td>13.0</td>\n      <td>False</td>\n      <td>1040.0</td>\n      <td>1020.0</td>\n      <td>1190.0</td>\n      <td>1330.0</td>\n      <td>0.0</td>\n      <td>1.0</td>\n    </tr>\n    <tr>\n      <th>2</th>\n      <td>5.0</td>\n      <td>10</td>\n      <td>0.0</td>\n      <td>0.0</td>\n      <td>1.0</td>\n      <td>1.0</td>\n      <td>90.0</td>\n      <td>20.2</td>\n      <td>0.4</td>\n      <td>0.0</td>\n      <td>2.1</td>\n      <td>1.0</td>\n      <td>13.0</td>\n      <td>False</td>\n      <td>1040.0</td>\n      <td>1020.0</td>\n      <td>1190.0</td>\n      <td>1330.0</td>\n      <td>0.0</td>\n      <td>0.0</td>\n    </tr>\n    <tr>\n      <th>3</th>\n      <td>6.0</td>\n      <td>10</td>\n      <td>0.0</td>\n      <td>0.0</td>\n      <td>1.0</td>\n      <td>1.0</td>\n      <td>90.0</td>\n      <td>14.0</td>\n      <td>15.6</td>\n      <td>4.0</td>\n      <td>3.4</td>\n      <td>1.0</td>\n      <td>13.0</td>\n      <td>False</td>\n      <td>1040.0</td>\n      <td>1020.0</td>\n      <td>1190.0</td>\n      <td>1330.0</td>\n      <td>0.0</td>\n      <td>1.0</td>\n    </tr>\n    <tr>\n      <th>4</th>\n      <td>467.0</td>\n      <td>10</td>\n      <td>0.0</td>\n      <td>0.0</td>\n      <td>1.0</td>\n      <td>1.0</td>\n      <td>90.0</td>\n      <td>15.0</td>\n      <td>0.2</td>\n      <td>0.0</td>\n      <td>1.5</td>\n      <td>1.0</td>\n      <td>13.0</td>\n      <td>False</td>\n      <td>1040.0</td>\n      <td>1020.0</td>\n      <td>1190.0</td>\n      <td>1330.0</td>\n      <td>0.0</td>\n      <td>0.0</td>\n    </tr>\n  </tbody>\n</table>\n</div>",
      "text/plain": "      id  fixture_id    G    A   CS   gw    MP     I     C    T  ICT  team  \\\n0   14.0          10  0.0  0.0  1.0  1.0  90.0  18.0   0.0  0.0  1.8   1.0   \n1    4.0          10  0.0  1.0  1.0  1.0  90.0  38.4  12.3  0.0  5.1   1.0   \n2    5.0          10  0.0  0.0  1.0  1.0  90.0  20.2   0.4  0.0  2.1   1.0   \n3    6.0          10  0.0  0.0  1.0  1.0  90.0  14.0  15.6  4.0  3.4   1.0   \n4  467.0          10  0.0  0.0  1.0  1.0  90.0  15.0   0.2  0.0  1.5   1.0   \n\n    opp   home  opp_att  opp_def     att     def  Sh90  KP90  \n0  13.0  False   1040.0   1020.0  1190.0  1330.0   0.0   0.0  \n1  13.0  False   1040.0   1020.0  1190.0  1330.0   0.0   1.0  \n2  13.0  False   1040.0   1020.0  1190.0  1330.0   0.0   0.0  \n3  13.0  False   1040.0   1020.0  1190.0  1330.0   0.0   1.0  \n4  13.0  False   1040.0   1020.0  1190.0  1330.0   0.0   0.0  "
     },
     "execution_count": 2,
     "metadata": {},
     "output_type": "execute_result"
    }
   ],
   "source": [
    "df_in=pd.read_csv('eda_sig.csv')\n",
    "df_in.drop(['Unnamed: 0'],axis=1,inplace=True)\n",
    "df_in.head()"
   ]
  },
  {
   "cell_type": "code",
   "execution_count": 3,
   "metadata": {},
   "outputs": [
    {
     "data": {
      "text/plain": "id            0\nfixture_id    0\nG             0\nA             0\nCS            0\ngw            0\nMP            0\nI             0\nC             0\nT             0\nICT           0\nteam          0\nopp           0\nhome          0\nopp_att       0\nopp_def       0\natt           0\ndef           0\nSh90          0\nKP90          0\ndtype: int64"
     },
     "execution_count": 3,
     "metadata": {},
     "output_type": "execute_result"
    }
   ],
   "source": [
    "df_in.isna().sum()"
   ]
  },
  {
   "cell_type": "code",
   "execution_count": 4,
   "metadata": {},
   "outputs": [
    {
     "data": {
      "text/html": "<div>\n<style scoped>\n    .dataframe tbody tr th:only-of-type {\n        vertical-align: middle;\n    }\n\n    .dataframe tbody tr th {\n        vertical-align: top;\n    }\n\n    .dataframe thead th {\n        text-align: right;\n    }\n</style>\n<table border=\"1\" class=\"dataframe\">\n  <thead>\n    <tr style=\"text-align: right;\">\n      <th></th>\n      <th>id</th>\n      <th>fixture_id</th>\n      <th>G</th>\n      <th>A</th>\n      <th>CS</th>\n      <th>gw</th>\n      <th>MP</th>\n      <th>I</th>\n      <th>C</th>\n      <th>T</th>\n      <th>ICT</th>\n      <th>team</th>\n      <th>opp</th>\n      <th>opp_att</th>\n      <th>opp_def</th>\n      <th>att</th>\n      <th>def</th>\n      <th>Sh90</th>\n      <th>KP90</th>\n    </tr>\n  </thead>\n  <tbody>\n    <tr>\n      <th>count</th>\n      <td>6077.000000</td>\n      <td>6077.000000</td>\n      <td>6077.000000</td>\n      <td>6077.000000</td>\n      <td>6077.000000</td>\n      <td>6077.000000</td>\n      <td>6077.000000</td>\n      <td>6077.000000</td>\n      <td>6077.000000</td>\n      <td>6077.000000</td>\n      <td>6077.000000</td>\n      <td>6077.000000</td>\n      <td>6077.000000</td>\n      <td>6077.000000</td>\n      <td>6077.000000</td>\n      <td>6077.000000</td>\n      <td>6077.000000</td>\n      <td>6077.000000</td>\n      <td>6077.000000</td>\n    </tr>\n    <tr>\n      <th>mean</th>\n      <td>263.379134</td>\n      <td>135.000823</td>\n      <td>0.107290</td>\n      <td>0.094784</td>\n      <td>0.246832</td>\n      <td>13.986177</td>\n      <td>81.362514</td>\n      <td>18.191048</td>\n      <td>11.889106</td>\n      <td>13.737206</td>\n      <td>4.381060</td>\n      <td>10.087050</td>\n      <td>10.525588</td>\n      <td>1142.246174</td>\n      <td>1156.075366</td>\n      <td>1136.552575</td>\n      <td>1149.037354</td>\n      <td>1.195759</td>\n      <td>0.878614</td>\n    </tr>\n    <tr>\n      <th>std</th>\n      <td>152.926801</td>\n      <td>77.854884</td>\n      <td>0.347579</td>\n      <td>0.318769</td>\n      <td>0.431204</td>\n      <td>7.807371</td>\n      <td>18.473806</td>\n      <td>14.977992</td>\n      <td>14.868403</td>\n      <td>19.799702</td>\n      <td>3.628315</td>\n      <td>5.718301</td>\n      <td>5.764572</td>\n      <td>101.401502</td>\n      <td>119.376740</td>\n      <td>99.601639</td>\n      <td>118.248316</td>\n      <td>1.666963</td>\n      <td>1.341934</td>\n    </tr>\n    <tr>\n      <th>min</th>\n      <td>1.000000</td>\n      <td>1.000000</td>\n      <td>0.000000</td>\n      <td>0.000000</td>\n      <td>0.000000</td>\n      <td>1.000000</td>\n      <td>21.000000</td>\n      <td>0.000000</td>\n      <td>0.000000</td>\n      <td>0.000000</td>\n      <td>0.000000</td>\n      <td>1.000000</td>\n      <td>1.000000</td>\n      <td>990.000000</td>\n      <td>1020.000000</td>\n      <td>990.000000</td>\n      <td>1020.000000</td>\n      <td>0.000000</td>\n      <td>0.000000</td>\n    </tr>\n    <tr>\n      <th>25%</th>\n      <td>135.000000</td>\n      <td>67.000000</td>\n      <td>0.000000</td>\n      <td>0.000000</td>\n      <td>0.000000</td>\n      <td>7.000000</td>\n      <td>81.000000</td>\n      <td>8.000000</td>\n      <td>1.000000</td>\n      <td>0.000000</td>\n      <td>1.900000</td>\n      <td>5.000000</td>\n      <td>6.000000</td>\n      <td>1060.000000</td>\n      <td>1050.000000</td>\n      <td>1060.000000</td>\n      <td>1050.000000</td>\n      <td>0.000000</td>\n      <td>0.000000</td>\n    </tr>\n    <tr>\n      <th>50%</th>\n      <td>255.000000</td>\n      <td>135.000000</td>\n      <td>0.000000</td>\n      <td>0.000000</td>\n      <td>0.000000</td>\n      <td>14.000000</td>\n      <td>90.000000</td>\n      <td>14.600000</td>\n      <td>5.300000</td>\n      <td>5.000000</td>\n      <td>3.300000</td>\n      <td>10.000000</td>\n      <td>11.000000</td>\n      <td>1120.000000</td>\n      <td>1120.000000</td>\n      <td>1120.000000</td>\n      <td>1110.000000</td>\n      <td>1.000000</td>\n      <td>0.000000</td>\n    </tr>\n    <tr>\n      <th>75%</th>\n      <td>399.000000</td>\n      <td>202.000000</td>\n      <td>0.000000</td>\n      <td>0.000000</td>\n      <td>0.000000</td>\n      <td>21.000000</td>\n      <td>90.000000</td>\n      <td>24.200000</td>\n      <td>17.000000</td>\n      <td>20.000000</td>\n      <td>5.700000</td>\n      <td>15.000000</td>\n      <td>16.000000</td>\n      <td>1210.000000</td>\n      <td>1280.000000</td>\n      <td>1190.000000</td>\n      <td>1280.000000</td>\n      <td>2.000000</td>\n      <td>1.130000</td>\n    </tr>\n    <tr>\n      <th>max</th>\n      <td>621.000000</td>\n      <td>270.000000</td>\n      <td>3.000000</td>\n      <td>3.000000</td>\n      <td>1.000000</td>\n      <td>27.000000</td>\n      <td>180.000000</td>\n      <td>131.000000</td>\n      <td>127.700000</td>\n      <td>176.000000</td>\n      <td>26.800000</td>\n      <td>20.000000</td>\n      <td>20.000000</td>\n      <td>1330.000000</td>\n      <td>1370.000000</td>\n      <td>1330.000000</td>\n      <td>1370.000000</td>\n      <td>18.000000</td>\n      <td>14.210000</td>\n    </tr>\n  </tbody>\n</table>\n</div>",
      "text/plain": "                id   fixture_id            G            A           CS  \\\ncount  6077.000000  6077.000000  6077.000000  6077.000000  6077.000000   \nmean    263.379134   135.000823     0.107290     0.094784     0.246832   \nstd     152.926801    77.854884     0.347579     0.318769     0.431204   \nmin       1.000000     1.000000     0.000000     0.000000     0.000000   \n25%     135.000000    67.000000     0.000000     0.000000     0.000000   \n50%     255.000000   135.000000     0.000000     0.000000     0.000000   \n75%     399.000000   202.000000     0.000000     0.000000     0.000000   \nmax     621.000000   270.000000     3.000000     3.000000     1.000000   \n\n                gw           MP            I            C            T  \\\ncount  6077.000000  6077.000000  6077.000000  6077.000000  6077.000000   \nmean     13.986177    81.362514    18.191048    11.889106    13.737206   \nstd       7.807371    18.473806    14.977992    14.868403    19.799702   \nmin       1.000000    21.000000     0.000000     0.000000     0.000000   \n25%       7.000000    81.000000     8.000000     1.000000     0.000000   \n50%      14.000000    90.000000    14.600000     5.300000     5.000000   \n75%      21.000000    90.000000    24.200000    17.000000    20.000000   \nmax      27.000000   180.000000   131.000000   127.700000   176.000000   \n\n               ICT         team          opp      opp_att      opp_def  \\\ncount  6077.000000  6077.000000  6077.000000  6077.000000  6077.000000   \nmean      4.381060    10.087050    10.525588  1142.246174  1156.075366   \nstd       3.628315     5.718301     5.764572   101.401502   119.376740   \nmin       0.000000     1.000000     1.000000   990.000000  1020.000000   \n25%       1.900000     5.000000     6.000000  1060.000000  1050.000000   \n50%       3.300000    10.000000    11.000000  1120.000000  1120.000000   \n75%       5.700000    15.000000    16.000000  1210.000000  1280.000000   \nmax      26.800000    20.000000    20.000000  1330.000000  1370.000000   \n\n               att          def         Sh90         KP90  \ncount  6077.000000  6077.000000  6077.000000  6077.000000  \nmean   1136.552575  1149.037354     1.195759     0.878614  \nstd      99.601639   118.248316     1.666963     1.341934  \nmin     990.000000  1020.000000     0.000000     0.000000  \n25%    1060.000000  1050.000000     0.000000     0.000000  \n50%    1120.000000  1110.000000     1.000000     0.000000  \n75%    1190.000000  1280.000000     2.000000     1.130000  \nmax    1330.000000  1370.000000    18.000000    14.210000  "
     },
     "execution_count": 4,
     "metadata": {},
     "output_type": "execute_result"
    }
   ],
   "source": [
    "df_in.describe()"
   ]
  },
  {
   "cell_type": "code",
   "execution_count": 5,
   "metadata": {},
   "outputs": [
    {
     "data": {
      "text/plain": "id            float64\nfixture_id      int64\nG             float64\nA             float64\nCS            float64\ngw            float64\nMP            float64\nI             float64\nC             float64\nT             float64\nICT           float64\nteam          float64\nopp           float64\nhome             bool\nopp_att       float64\nopp_def       float64\natt           float64\ndef           float64\nSh90          float64\nKP90          float64\ndtype: object"
     },
     "execution_count": 5,
     "metadata": {},
     "output_type": "execute_result"
    }
   ],
   "source": [
    "df_in.dtypes"
   ]
  },
  {
   "cell_type": "code",
   "execution_count": 6,
   "metadata": {},
   "outputs": [],
   "source": [
    "df_in['home']=df_in['home'].astype(int)"
   ]
  },
  {
   "cell_type": "markdown",
   "metadata": {},
   "source": [
    "Data is ready for ML processes."
   ]
  },
  {
   "cell_type": "markdown",
   "metadata": {},
   "source": [
    "## Setting up Model"
   ]
  },
  {
   "cell_type": "markdown",
   "metadata": {},
   "source": [
    "Setup pipelines for classification models"
   ]
  },
  {
   "cell_type": "code",
   "execution_count": 7,
   "metadata": {},
   "outputs": [],
   "source": [
    "pipe_log = Pipeline([('scl', StandardScaler()),\n",
    "\t\t\t('clf', LogisticRegression(random_state=14))])"
   ]
  },
  {
   "cell_type": "code",
   "execution_count": 8,
   "metadata": {},
   "outputs": [],
   "source": [
    "pipe_svm = Pipeline([('scl', StandardScaler()),\n",
    "\t\t\t('clf', svm.SVC(random_state=14))])"
   ]
  },
  {
   "cell_type": "code",
   "execution_count": 9,
   "metadata": {},
   "outputs": [],
   "source": [
    "pipe_dt = Pipeline([('scl', StandardScaler()),\n",
    "\t\t\t('clf', tree.DecisionTreeClassifier(random_state=14))])"
   ]
  },
  {
   "cell_type": "code",
   "execution_count": 10,
   "metadata": {},
   "outputs": [],
   "source": [
    "pipelines = [pipe_log,pipe_svm,pipe_dt]"
   ]
  },
  {
   "cell_type": "code",
   "execution_count": 11,
   "metadata": {},
   "outputs": [],
   "source": [
    "pipe_dict = {0: 'Logistic Regression', 1: 'Support Vector Machine', 2: 'Decision Tree'}"
   ]
  },
  {
   "cell_type": "markdown",
   "metadata": {},
   "source": [
    "## Goals"
   ]
  },
  {
   "cell_type": "markdown",
   "metadata": {},
   "source": [
    "Compare models precision for predicting goals scored"
   ]
  },
  {
   "cell_type": "code",
   "execution_count": 12,
   "metadata": {},
   "outputs": [],
   "source": [
    "X_G_train, X_G_test, y_G_train, y_G_test = train_test_split(df_in[['Sh90','I','T']],df_in['G'],test_size=0.2, random_state=14, stratify=df_in['G'])"
   ]
  },
  {
   "cell_type": "code",
   "execution_count": 13,
   "metadata": {},
   "outputs": [],
   "source": [
    "for pipe in pipelines:\n",
    "    pipe.fit(X=X_G_train,y=y_G_train)"
   ]
  },
  {
   "cell_type": "code",
   "execution_count": 14,
   "metadata": {},
   "outputs": [
    {
     "name": "stdout",
     "output_type": "stream",
     "text": "Logistic Regression \n               precision    recall  f1-score   support\n\n         0.0       0.98      0.98      0.98      1099\n         1.0       0.75      0.76      0.76       105\n         2.0       0.90      0.90      0.90        10\n         3.0       1.00      1.00      1.00         2\n\n    accuracy                           0.96      1216\n   macro avg       0.91      0.91      0.91      1216\nweighted avg       0.96      0.96      0.96      1216\n\nSupport Vector Machine \n               precision    recall  f1-score   support\n\n         0.0       0.99      0.98      0.99      1099\n         1.0       0.82      0.92      0.87       105\n         2.0       0.73      0.80      0.76        10\n         3.0       1.00      0.50      0.67         2\n\n    accuracy                           0.97      1216\n   macro avg       0.89      0.80      0.82      1216\nweighted avg       0.98      0.97      0.98      1216\n\nDecision Tree \n               precision    recall  f1-score   support\n\n         0.0       0.98      0.98      0.98      1099\n         1.0       0.79      0.81      0.80       105\n         2.0       0.56      0.50      0.53        10\n         3.0       0.50      0.50      0.50         2\n\n    accuracy                           0.96      1216\n   macro avg       0.71      0.70      0.70      1216\nweighted avg       0.96      0.96      0.96      1216\n\n"
    }
   ],
   "source": [
    "for idx,val in enumerate(pipelines):\n",
    "    print(pipe_dict[idx], '\\n', classification_report(y_true=y_G_test, y_pred=pipelines[idx].predict(X_G_test)))"
   ]
  },
  {
   "cell_type": "markdown",
   "metadata": {},
   "source": [
    "Decide to use SVM for its superior precision in calculating 1 goal scored (the most common non zero amount)"
   ]
  },
  {
   "cell_type": "code",
   "execution_count": 15,
   "metadata": {},
   "outputs": [],
   "source": [
    "pipe_g=Pipeline([('scl', StandardScaler()),\n",
    "\t\t\t('clf', svm.SVC(random_state=14))])"
   ]
  },
  {
   "cell_type": "code",
   "execution_count": 16,
   "metadata": {},
   "outputs": [
    {
     "data": {
      "text/plain": "Pipeline(memory=None,\n         steps=[('scl',\n                 StandardScaler(copy=True, with_mean=True, with_std=True)),\n                ('clf',\n                 SVC(C=1.0, break_ties=False, cache_size=200, class_weight=None,\n                     coef0=0.0, decision_function_shape='ovr', degree=3,\n                     gamma='scale', kernel='rbf', max_iter=-1,\n                     probability=False, random_state=14, shrinking=True,\n                     tol=0.001, verbose=False))],\n         verbose=False)"
     },
     "execution_count": 16,
     "metadata": {},
     "output_type": "execute_result"
    }
   ],
   "source": [
    "pipe_g.fit(X=X_G_train,y=y_G_train)"
   ]
  },
  {
   "cell_type": "code",
   "execution_count": 17,
   "metadata": {},
   "outputs": [
    {
     "name": "stdout",
     "output_type": "stream",
     "text": "precision    recall  f1-score   support\n\n         0.0       0.99      0.98      0.99      1099\n         1.0       0.82      0.92      0.87       105\n         2.0       0.73      0.80      0.76        10\n         3.0       1.00      0.50      0.67         2\n\n    accuracy                           0.97      1216\n   macro avg       0.89      0.80      0.82      1216\nweighted avg       0.98      0.97      0.98      1216\n\n"
    }
   ],
   "source": [
    "print(classification_report(y_true=y_G_test, y_pred=pipe_g.predict(X_G_test)))"
   ]
  },
  {
   "cell_type": "markdown",
   "metadata": {},
   "source": [
    "For future development, hyperparameter optimization and possible employment of an ensemble method with voting that incorporates SVM LogReg and DT methods can be used to improve precision."
   ]
  },
  {
   "cell_type": "markdown",
   "metadata": {},
   "source": [
    "## Assists "
   ]
  },
  {
   "cell_type": "code",
   "execution_count": 18,
   "metadata": {},
   "outputs": [],
   "source": [
    "X_A_train, X_A_test, y_A_train, y_A_test = train_test_split(df_in[['KP90','I','C']],df_in['A'],test_size=0.2, random_state=14, stratify=df_in['A'])"
   ]
  },
  {
   "cell_type": "code",
   "execution_count": 19,
   "metadata": {},
   "outputs": [],
   "source": [
    "for pipe in pipelines:\n",
    "    pipe.fit(X=X_A_train,y=y_A_train)"
   ]
  },
  {
   "cell_type": "code",
   "execution_count": 20,
   "metadata": {},
   "outputs": [
    {
     "name": "stdout",
     "output_type": "stream",
     "text": "Logistic Regression \n               precision    recall  f1-score   support\n\n         0.0       0.93      0.99      0.96      1110\n         1.0       0.47      0.14      0.22        98\n         2.0       0.00      0.00      0.00         7\n         3.0       0.00      0.00      0.00         1\n\n    accuracy                           0.91      1216\n   macro avg       0.35      0.28      0.29      1216\nweighted avg       0.88      0.91      0.89      1216\n\nSupport Vector Machine \n               precision    recall  f1-score   support\n\n         0.0       0.92      0.99      0.95      1110\n         1.0       0.45      0.10      0.17        98\n         2.0       0.00      0.00      0.00         7\n         3.0       0.00      0.00      0.00         1\n\n    accuracy                           0.91      1216\n   macro avg       0.34      0.27      0.28      1216\nweighted avg       0.88      0.91      0.89      1216\n\nDecision Tree \n               precision    recall  f1-score   support\n\n         0.0       0.95      0.93      0.94      1110\n         1.0       0.39      0.46      0.42        98\n         2.0       0.18      0.29      0.22         7\n         3.0       0.00      0.00      0.00         1\n\n    accuracy                           0.89      1216\n   macro avg       0.38      0.42      0.40      1216\nweighted avg       0.90      0.89      0.90      1216\n\n"
    }
   ],
   "source": [
    "for idx,val in enumerate(pipelines):\n",
    "    print(pipe_dict[idx], '\\n', classification_report(y_true=y_A_test, y_pred=pipelines[idx].predict(X_A_test)))"
   ]
  },
  {
   "cell_type": "markdown",
   "metadata": {},
   "source": [
    "The accuracies are quite poor for all methods. We choose logistic regression for its superior accuracy of 1 assist predictions. This accuracy is still poor, future development must consider data accuracy, hyperparameter optimization and ensemble methods."
   ]
  },
  {
   "cell_type": "code",
   "execution_count": 21,
   "metadata": {},
   "outputs": [],
   "source": [
    "pipe_a=Pipeline([('scl', StandardScaler()),\n",
    "\t\t\t('clf', LogisticRegression(random_state=14))])"
   ]
  },
  {
   "cell_type": "code",
   "execution_count": 22,
   "metadata": {},
   "outputs": [
    {
     "data": {
      "text/plain": "Pipeline(memory=None,\n         steps=[('scl',\n                 StandardScaler(copy=True, with_mean=True, with_std=True)),\n                ('clf',\n                 LogisticRegression(C=1.0, class_weight=None, dual=False,\n                                    fit_intercept=True, intercept_scaling=1,\n                                    l1_ratio=None, max_iter=100,\n                                    multi_class='auto', n_jobs=None,\n                                    penalty='l2', random_state=14,\n                                    solver='lbfgs', tol=0.0001, verbose=0,\n                                    warm_start=False))],\n         verbose=False)"
     },
     "execution_count": 22,
     "metadata": {},
     "output_type": "execute_result"
    }
   ],
   "source": [
    "pipe_a.fit(X=X_A_train,y=y_A_train)"
   ]
  },
  {
   "cell_type": "code",
   "execution_count": 23,
   "metadata": {},
   "outputs": [
    {
     "name": "stdout",
     "output_type": "stream",
     "text": "precision    recall  f1-score   support\n\n         0.0       0.93      0.99      0.96      1110\n         1.0       0.47      0.14      0.22        98\n         2.0       0.00      0.00      0.00         7\n         3.0       0.00      0.00      0.00         1\n\n    accuracy                           0.91      1216\n   macro avg       0.35      0.28      0.29      1216\nweighted avg       0.88      0.91      0.89      1216\n\n"
    }
   ],
   "source": [
    "print(classification_report(y_true=y_A_test, y_pred=pipe_a.predict(X_A_test)))"
   ]
  },
  {
   "cell_type": "markdown",
   "metadata": {},
   "source": [
    "## Clean Sheets"
   ]
  },
  {
   "cell_type": "code",
   "execution_count": 24,
   "metadata": {},
   "outputs": [],
   "source": [
    "X_CS_train, X_CS_test, y_CS_train, y_CS_test = train_test_split(df_in[['opp_att','def','home']],df_in['CS'],test_size=0.2, random_state=14, stratify=df_in['CS'])"
   ]
  },
  {
   "cell_type": "code",
   "execution_count": 25,
   "metadata": {},
   "outputs": [],
   "source": [
    "for pipe in pipelines:\n",
    "    pipe.fit(X=X_CS_train,y=y_CS_train)"
   ]
  },
  {
   "cell_type": "code",
   "execution_count": 26,
   "metadata": {},
   "outputs": [
    {
     "name": "stdout",
     "output_type": "stream",
     "text": "Logistic Regression \n               precision    recall  f1-score   support\n\n         0.0       0.75      1.00      0.86       916\n         1.0       0.00      0.00      0.00       300\n\n    accuracy                           0.75      1216\n   macro avg       0.38      0.50      0.43      1216\nweighted avg       0.57      0.75      0.65      1216\n\nSupport Vector Machine \n               precision    recall  f1-score   support\n\n         0.0       0.75      1.00      0.86       916\n         1.0       0.00      0.00      0.00       300\n\n    accuracy                           0.75      1216\n   macro avg       0.38      0.50      0.43      1216\nweighted avg       0.57      0.75      0.65      1216\n\nDecision Tree \n               precision    recall  f1-score   support\n\n         0.0       0.89      0.94      0.92       916\n         1.0       0.78      0.66      0.72       300\n\n    accuracy                           0.87      1216\n   macro avg       0.84      0.80      0.82      1216\nweighted avg       0.87      0.87      0.87      1216\n\n"
    }
   ],
   "source": [
    "for idx,val in enumerate(pipelines):\n",
    "    print(pipe_dict[idx], '\\n', classification_report(y_true=y_CS_test, y_pred=pipelines[idx].predict(X_CS_test)))"
   ]
  },
  {
   "cell_type": "markdown",
   "metadata": {},
   "source": [
    "Logistic regression and SVM methods fail to predict clean sheet occurances at all. Decision tree accuracy is 78% for clean sheet and 89% for non clean sheet, this is fairly accurate but further optimization can be done."
   ]
  },
  {
   "cell_type": "code",
   "execution_count": 28,
   "metadata": {},
   "outputs": [],
   "source": [
    "pipe_cs=Pipeline([('scl', StandardScaler()),\n",
    "\t\t\t('clf', tree.DecisionTreeClassifier(random_state=14))])"
   ]
  },
  {
   "cell_type": "code",
   "execution_count": 29,
   "metadata": {},
   "outputs": [
    {
     "data": {
      "text/plain": "Pipeline(memory=None,\n         steps=[('scl',\n                 StandardScaler(copy=True, with_mean=True, with_std=True)),\n                ('clf',\n                 DecisionTreeClassifier(ccp_alpha=0.0, class_weight=None,\n                                        criterion='gini', max_depth=None,\n                                        max_features=None, max_leaf_nodes=None,\n                                        min_impurity_decrease=0.0,\n                                        min_impurity_split=None,\n                                        min_samples_leaf=1, min_samples_split=2,\n                                        min_weight_fraction_leaf=0.0,\n                                        presort='deprecated', random_state=14,\n                                        splitter='best'))],\n         verbose=False)"
     },
     "execution_count": 29,
     "metadata": {},
     "output_type": "execute_result"
    }
   ],
   "source": [
    "pipe_cs.fit(X=X_CS_train,y=y_CS_train)"
   ]
  },
  {
   "cell_type": "code",
   "execution_count": 30,
   "metadata": {},
   "outputs": [
    {
     "name": "stdout",
     "output_type": "stream",
     "text": "precision    recall  f1-score   support\n\n         0.0       0.89      0.94      0.92       916\n         1.0       0.78      0.66      0.72       300\n\n    accuracy                           0.87      1216\n   macro avg       0.84      0.80      0.82      1216\nweighted avg       0.87      0.87      0.87      1216\n\n"
    }
   ],
   "source": [
    "print(classification_report(y_true=y_CS_test, y_pred=pipe_cs.predict(X_CS_test)))"
   ]
  },
  {
   "cell_type": "markdown",
   "metadata": {},
   "source": [
    "# Points, Captain & Vice Captain Calculator"
   ]
  },
  {
   "cell_type": "markdown",
   "metadata": {},
   "source": [
    "Input FPL team. Select player's ID, position, team, opposition team and whether they play home or not. Alternatively read from a csv file"
   ]
  },
  {
   "cell_type": "code",
   "execution_count": 31,
   "metadata": {},
   "outputs": [],
   "source": [
    "team_df=pd.DataFrame(np.array([[131,1,7,18,1],[48,1,4,20,0],[258,2,13,16,0],[407,2,20,4,1],[182,2,10,3,1],[128,2,7,18,1],[65,2,3,10,0],[301,3,15,14,1],[191,3,10,3,1],[463,3,6,8,1],[171,3,9,2,1],[215,3,11,12,0],[409,4,20,4,1],[313,4,16,13,1],[187,4,10,3,1]]),columns=['id','pos','team','opp','home'])"
   ]
  },
  {
   "cell_type": "code",
   "execution_count": 32,
   "metadata": {},
   "outputs": [],
   "source": [
    "#team_df=pd.read_csv('myteam.csv')\n",
    "#team_df.drop(['Unnamed: 0'],axis=1,inplace=True)"
   ]
  },
  {
   "cell_type": "code",
   "execution_count": 33,
   "metadata": {},
   "outputs": [
    {
     "data": {
      "text/html": "<div>\n<style scoped>\n    .dataframe tbody tr th:only-of-type {\n        vertical-align: middle;\n    }\n\n    .dataframe tbody tr th {\n        vertical-align: top;\n    }\n\n    .dataframe thead th {\n        text-align: right;\n    }\n</style>\n<table border=\"1\" class=\"dataframe\">\n  <thead>\n    <tr style=\"text-align: right;\">\n      <th></th>\n      <th>id</th>\n      <th>pos</th>\n      <th>team</th>\n      <th>opp</th>\n      <th>home</th>\n    </tr>\n  </thead>\n  <tbody>\n    <tr>\n      <th>0</th>\n      <td>131</td>\n      <td>1</td>\n      <td>7</td>\n      <td>18</td>\n      <td>1</td>\n    </tr>\n    <tr>\n      <th>1</th>\n      <td>48</td>\n      <td>1</td>\n      <td>4</td>\n      <td>20</td>\n      <td>0</td>\n    </tr>\n    <tr>\n      <th>2</th>\n      <td>258</td>\n      <td>2</td>\n      <td>13</td>\n      <td>16</td>\n      <td>0</td>\n    </tr>\n    <tr>\n      <th>3</th>\n      <td>407</td>\n      <td>2</td>\n      <td>20</td>\n      <td>4</td>\n      <td>1</td>\n    </tr>\n    <tr>\n      <th>4</th>\n      <td>182</td>\n      <td>2</td>\n      <td>10</td>\n      <td>3</td>\n      <td>1</td>\n    </tr>\n  </tbody>\n</table>\n</div>",
      "text/plain": "    id  pos  team  opp  home\n0  131    1     7   18     1\n1   48    1     4   20     0\n2  258    2    13   16     0\n3  407    2    20    4     1\n4  182    2    10    3     1"
     },
     "execution_count": 33,
     "metadata": {},
     "output_type": "execute_result"
    }
   ],
   "source": [
    "team_df.head()"
   ]
  },
  {
   "cell_type": "code",
   "execution_count": 14,
   "metadata": {},
   "outputs": [],
   "source": [
    "#team_df.to_csv('myteam.csv')"
   ]
  },
  {
   "cell_type": "markdown",
   "metadata": {},
   "source": [
    "Pull and merge ratings for teams and oppositions that are relevant to CS prediction. This process is similar to the one in EDA notebook."
   ]
  },
  {
   "cell_type": "code",
   "execution_count": 35,
   "metadata": {},
   "outputs": [],
   "source": [
    "ratings_df=pd.read_csv('data_clean/teams_clean.csv')"
   ]
  },
  {
   "cell_type": "code",
   "execution_count": 36,
   "metadata": {},
   "outputs": [],
   "source": [
    "ratings_df=ratings_df[['id','strength_attack_home','strength_attack_away','strength_defence_home','strength_defence_away']]\n"
   ]
  },
  {
   "cell_type": "code",
   "execution_count": 37,
   "metadata": {},
   "outputs": [
    {
     "data": {
      "text/html": "<div>\n<style scoped>\n    .dataframe tbody tr th:only-of-type {\n        vertical-align: middle;\n    }\n\n    .dataframe tbody tr th {\n        vertical-align: top;\n    }\n\n    .dataframe thead th {\n        text-align: right;\n    }\n</style>\n<table border=\"1\" class=\"dataframe\">\n  <thead>\n    <tr style=\"text-align: right;\">\n      <th></th>\n      <th>id</th>\n      <th>strength_attack_home</th>\n      <th>strength_attack_away</th>\n      <th>strength_defence_home</th>\n      <th>strength_defence_away</th>\n    </tr>\n  </thead>\n  <tbody>\n    <tr>\n      <th>0</th>\n      <td>1</td>\n      <td>1150</td>\n      <td>1190</td>\n      <td>1280</td>\n      <td>1330</td>\n    </tr>\n    <tr>\n      <th>1</th>\n      <td>2</td>\n      <td>1030</td>\n      <td>1060</td>\n      <td>1030</td>\n      <td>1050</td>\n    </tr>\n    <tr>\n      <th>2</th>\n      <td>3</td>\n      <td>1030</td>\n      <td>1070</td>\n      <td>1110</td>\n      <td>1180</td>\n    </tr>\n    <tr>\n      <th>3</th>\n      <td>4</td>\n      <td>1040</td>\n      <td>1160</td>\n      <td>1030</td>\n      <td>1130</td>\n    </tr>\n    <tr>\n      <th>4</th>\n      <td>5</td>\n      <td>1060</td>\n      <td>1130</td>\n      <td>1050</td>\n      <td>1050</td>\n    </tr>\n  </tbody>\n</table>\n</div>",
      "text/plain": "   id  strength_attack_home  strength_attack_away  strength_defence_home  \\\n0   1                  1150                  1190                   1280   \n1   2                  1030                  1060                   1030   \n2   3                  1030                  1070                   1110   \n3   4                  1040                  1160                   1030   \n4   5                  1060                  1130                   1050   \n\n   strength_defence_away  \n0                   1330  \n1                   1050  \n2                   1180  \n3                   1130  \n4                   1050  "
     },
     "execution_count": 37,
     "metadata": {},
     "output_type": "execute_result"
    }
   ],
   "source": [
    "ratings_df.head()"
   ]
  },
  {
   "cell_type": "code",
   "execution_count": 38,
   "metadata": {},
   "outputs": [],
   "source": [
    "ratings_df.rename(columns={'id':'opp'},inplace=True)"
   ]
  },
  {
   "cell_type": "code",
   "execution_count": 39,
   "metadata": {},
   "outputs": [],
   "source": [
    "team_df=pd.merge(team_df,ratings_df,on=\"opp\",how='left')"
   ]
  },
  {
   "cell_type": "code",
   "execution_count": 40,
   "metadata": {},
   "outputs": [],
   "source": [
    "team_df.rename(columns={'strength_attack_home':'opp_att_h', 'strength_attack_away':'opp_att_a', 'strength_defence_home': 'opp_def_h', 'strength_defence_away':'opp_def_a'},inplace=True)"
   ]
  },
  {
   "cell_type": "code",
   "execution_count": 41,
   "metadata": {},
   "outputs": [],
   "source": [
    "team_df[\"opp_att\"]=np.where(team_df[\"home\"],team_df[\"opp_att_a\"],team_df[\"opp_att_h\"])"
   ]
  },
  {
   "cell_type": "code",
   "execution_count": 42,
   "metadata": {},
   "outputs": [],
   "source": [
    "ratings_df.rename(columns={'opp':'team'},inplace=True)"
   ]
  },
  {
   "cell_type": "code",
   "execution_count": 43,
   "metadata": {},
   "outputs": [],
   "source": [
    "team_df=pd.merge(team_df,ratings_df,on=\"team\",how='left')"
   ]
  },
  {
   "cell_type": "code",
   "execution_count": 44,
   "metadata": {},
   "outputs": [],
   "source": [
    "team_df.rename(columns={'strength_attack_home':'att_h', 'strength_attack_away':'att_a', 'strength_defence_home': 'def_h', 'strength_defence_away':'def_a'},inplace=True)"
   ]
  },
  {
   "cell_type": "code",
   "execution_count": 45,
   "metadata": {},
   "outputs": [],
   "source": [
    "team_df[\"def\"]=np.where(team_df[\"home\"],team_df[\"def_h\"],team_df[\"def_a\"])"
   ]
  },
  {
   "cell_type": "code",
   "execution_count": 46,
   "metadata": {},
   "outputs": [],
   "source": [
    "team_df.drop(['opp_att_h','opp_def_h','opp_att_a','opp_def_a','att_h','att_a','def_h','def_a'],axis=1,inplace=True)"
   ]
  },
  {
   "cell_type": "code",
   "execution_count": 47,
   "metadata": {},
   "outputs": [
    {
     "data": {
      "text/html": "<div>\n<style scoped>\n    .dataframe tbody tr th:only-of-type {\n        vertical-align: middle;\n    }\n\n    .dataframe tbody tr th {\n        vertical-align: top;\n    }\n\n    .dataframe thead th {\n        text-align: right;\n    }\n</style>\n<table border=\"1\" class=\"dataframe\">\n  <thead>\n    <tr style=\"text-align: right;\">\n      <th></th>\n      <th>id</th>\n      <th>pos</th>\n      <th>team</th>\n      <th>opp</th>\n      <th>home</th>\n      <th>opp_att</th>\n      <th>def</th>\n    </tr>\n  </thead>\n  <tbody>\n    <tr>\n      <th>0</th>\n      <td>131</td>\n      <td>1</td>\n      <td>7</td>\n      <td>18</td>\n      <td>1</td>\n      <td>1120</td>\n      <td>1040</td>\n    </tr>\n    <tr>\n      <th>1</th>\n      <td>48</td>\n      <td>1</td>\n      <td>4</td>\n      <td>20</td>\n      <td>0</td>\n      <td>1110</td>\n      <td>1130</td>\n    </tr>\n    <tr>\n      <th>2</th>\n      <td>258</td>\n      <td>2</td>\n      <td>13</td>\n      <td>16</td>\n      <td>0</td>\n      <td>1010</td>\n      <td>1030</td>\n    </tr>\n    <tr>\n      <th>3</th>\n      <td>407</td>\n      <td>2</td>\n      <td>20</td>\n      <td>4</td>\n      <td>1</td>\n      <td>1160</td>\n      <td>1080</td>\n    </tr>\n    <tr>\n      <th>4</th>\n      <td>182</td>\n      <td>2</td>\n      <td>10</td>\n      <td>3</td>\n      <td>1</td>\n      <td>1070</td>\n      <td>1340</td>\n    </tr>\n  </tbody>\n</table>\n</div>",
      "text/plain": "    id  pos  team  opp  home  opp_att   def\n0  131    1     7   18     1     1120  1040\n1   48    1     4   20     0     1110  1130\n2  258    2    13   16     0     1010  1030\n3  407    2    20    4     1     1160  1080\n4  182    2    10    3     1     1070  1340"
     },
     "execution_count": 47,
     "metadata": {},
     "output_type": "execute_result"
    }
   ],
   "source": [
    "team_df.head()"
   ]
  },
  {
   "cell_type": "markdown",
   "metadata": {},
   "source": [
    "Now merge the players average personal stats over last 5 gameweeks. This is a simple attempt at understanding a players current form rather than using their season average. A better system will be implemented in further development."
   ]
  },
  {
   "cell_type": "code",
   "execution_count": 48,
   "metadata": {},
   "outputs": [
    {
     "data": {
      "text/plain": "Index(['id', 'fixture_id', 'G', 'A', 'CS', 'gw', 'MP', 'I', 'C', 'T', 'ICT',\n       'team', 'opp', 'home', 'opp_att', 'opp_def', 'att', 'def', 'Sh90',\n       'KP90'],\n      dtype='object')"
     },
     "execution_count": 48,
     "metadata": {},
     "output_type": "execute_result"
    }
   ],
   "source": [
    "df_in.columns"
   ]
  },
  {
   "cell_type": "code",
   "execution_count": 50,
   "metadata": {},
   "outputs": [],
   "source": [
    "temp_df=df_in[['id','gw','MP','I','C','T','KP90','Sh90']].copy()"
   ]
  },
  {
   "cell_type": "code",
   "execution_count": 51,
   "metadata": {},
   "outputs": [
    {
     "data": {
      "text/plain": "[131, 48, 258, 407, 182, 128, 65, 301, 191, 463, 171, 215, 409, 313, 187]"
     },
     "execution_count": 51,
     "metadata": {},
     "output_type": "execute_result"
    }
   ],
   "source": [
    "team_df['id'].tolist()"
   ]
  },
  {
   "cell_type": "code",
   "execution_count": 52,
   "metadata": {},
   "outputs": [],
   "source": [
    "temp_df=temp_df[temp_df['id'].isin(team_df['id'].tolist())]"
   ]
  },
  {
   "cell_type": "code",
   "execution_count": 53,
   "metadata": {},
   "outputs": [],
   "source": [
    "temp_df=temp_df[temp_df['gw']>22]"
   ]
  },
  {
   "cell_type": "code",
   "execution_count": 54,
   "metadata": {},
   "outputs": [],
   "source": [
    "avgsts_df=temp_df.groupby('id',as_index=False)['MP','I','C','T','KP90','Sh90'].mean()"
   ]
  },
  {
   "cell_type": "code",
   "execution_count": 55,
   "metadata": {},
   "outputs": [],
   "source": [
    "team_df=pd.merge(team_df,avgsts_df,on='id',how='left')"
   ]
  },
  {
   "cell_type": "code",
   "execution_count": 56,
   "metadata": {},
   "outputs": [],
   "source": [
    "team_df.fillna(0,inplace=True)"
   ]
  },
  {
   "cell_type": "code",
   "execution_count": 57,
   "metadata": {},
   "outputs": [
    {
     "data": {
      "text/html": "<div>\n<style scoped>\n    .dataframe tbody tr th:only-of-type {\n        vertical-align: middle;\n    }\n\n    .dataframe tbody tr th {\n        vertical-align: top;\n    }\n\n    .dataframe thead th {\n        text-align: right;\n    }\n</style>\n<table border=\"1\" class=\"dataframe\">\n  <thead>\n    <tr style=\"text-align: right;\">\n      <th></th>\n      <th>id</th>\n      <th>pos</th>\n      <th>team</th>\n      <th>opp</th>\n      <th>home</th>\n      <th>opp_att</th>\n      <th>def</th>\n      <th>MP</th>\n      <th>I</th>\n      <th>C</th>\n      <th>T</th>\n      <th>KP90</th>\n      <th>Sh90</th>\n    </tr>\n  </thead>\n  <tbody>\n    <tr>\n      <th>0</th>\n      <td>131</td>\n      <td>1</td>\n      <td>7</td>\n      <td>18</td>\n      <td>1</td>\n      <td>1120</td>\n      <td>1040</td>\n      <td>90.0</td>\n      <td>24.20</td>\n      <td>0.00</td>\n      <td>0.0</td>\n      <td>0.000</td>\n      <td>0.000</td>\n    </tr>\n    <tr>\n      <th>1</th>\n      <td>48</td>\n      <td>1</td>\n      <td>4</td>\n      <td>20</td>\n      <td>0</td>\n      <td>1110</td>\n      <td>1130</td>\n      <td>0.0</td>\n      <td>0.00</td>\n      <td>0.00</td>\n      <td>0.0</td>\n      <td>0.000</td>\n      <td>0.000</td>\n    </tr>\n    <tr>\n      <th>2</th>\n      <td>258</td>\n      <td>2</td>\n      <td>13</td>\n      <td>16</td>\n      <td>0</td>\n      <td>1010</td>\n      <td>1030</td>\n      <td>90.0</td>\n      <td>15.80</td>\n      <td>0.24</td>\n      <td>9.0</td>\n      <td>0.000</td>\n      <td>0.600</td>\n    </tr>\n    <tr>\n      <th>3</th>\n      <td>407</td>\n      <td>2</td>\n      <td>20</td>\n      <td>4</td>\n      <td>1</td>\n      <td>1160</td>\n      <td>1080</td>\n      <td>90.0</td>\n      <td>20.64</td>\n      <td>6.44</td>\n      <td>12.0</td>\n      <td>0.600</td>\n      <td>1.200</td>\n    </tr>\n    <tr>\n      <th>4</th>\n      <td>182</td>\n      <td>2</td>\n      <td>10</td>\n      <td>3</td>\n      <td>1</td>\n      <td>1070</td>\n      <td>1340</td>\n      <td>105.4</td>\n      <td>32.88</td>\n      <td>45.02</td>\n      <td>11.6</td>\n      <td>2.318</td>\n      <td>1.706</td>\n    </tr>\n  </tbody>\n</table>\n</div>",
      "text/plain": "    id  pos  team  opp  home  opp_att   def     MP      I      C     T   KP90  \\\n0  131    1     7   18     1     1120  1040   90.0  24.20   0.00   0.0  0.000   \n1   48    1     4   20     0     1110  1130    0.0   0.00   0.00   0.0  0.000   \n2  258    2    13   16     0     1010  1030   90.0  15.80   0.24   9.0  0.000   \n3  407    2    20    4     1     1160  1080   90.0  20.64   6.44  12.0  0.600   \n4  182    2    10    3     1     1070  1340  105.4  32.88  45.02  11.6  2.318   \n\n    Sh90  \n0  0.000  \n1  0.000  \n2  0.600  \n3  1.200  \n4  1.706  "
     },
     "execution_count": 57,
     "metadata": {},
     "output_type": "execute_result"
    }
   ],
   "source": [
    "team_df.head()"
   ]
  },
  {
   "cell_type": "markdown",
   "metadata": {},
   "source": [
    "Predict target feature variables through ML pipelines."
   ]
  },
  {
   "cell_type": "code",
   "execution_count": 58,
   "metadata": {},
   "outputs": [],
   "source": [
    "team_df['G']=pipe_g.predict(team_df[['Sh90','I','T']])"
   ]
  },
  {
   "cell_type": "code",
   "execution_count": 59,
   "metadata": {},
   "outputs": [],
   "source": [
    "team_df['CS']=pipe_cs.predict(team_df[['opp_att','def','home']])"
   ]
  },
  {
   "cell_type": "code",
   "execution_count": 60,
   "metadata": {},
   "outputs": [],
   "source": [
    "team_df['A']=pipe_cs.predict(team_df[['KP90','I','C']])"
   ]
  },
  {
   "cell_type": "code",
   "execution_count": 61,
   "metadata": {},
   "outputs": [
    {
     "data": {
      "text/html": "<div>\n<style scoped>\n    .dataframe tbody tr th:only-of-type {\n        vertical-align: middle;\n    }\n\n    .dataframe tbody tr th {\n        vertical-align: top;\n    }\n\n    .dataframe thead th {\n        text-align: right;\n    }\n</style>\n<table border=\"1\" class=\"dataframe\">\n  <thead>\n    <tr style=\"text-align: right;\">\n      <th></th>\n      <th>id</th>\n      <th>pos</th>\n      <th>team</th>\n      <th>opp</th>\n      <th>home</th>\n      <th>opp_att</th>\n      <th>def</th>\n      <th>MP</th>\n      <th>I</th>\n      <th>C</th>\n      <th>T</th>\n      <th>KP90</th>\n      <th>Sh90</th>\n      <th>G</th>\n      <th>CS</th>\n      <th>A</th>\n    </tr>\n  </thead>\n  <tbody>\n    <tr>\n      <th>0</th>\n      <td>131</td>\n      <td>1</td>\n      <td>7</td>\n      <td>18</td>\n      <td>1</td>\n      <td>1120</td>\n      <td>1040</td>\n      <td>90.00</td>\n      <td>24.20</td>\n      <td>0.000</td>\n      <td>0.00</td>\n      <td>0.0000</td>\n      <td>0.000</td>\n      <td>0.0</td>\n      <td>0.0</td>\n      <td>0.0</td>\n    </tr>\n    <tr>\n      <th>1</th>\n      <td>48</td>\n      <td>1</td>\n      <td>4</td>\n      <td>20</td>\n      <td>0</td>\n      <td>1110</td>\n      <td>1130</td>\n      <td>0.00</td>\n      <td>0.00</td>\n      <td>0.000</td>\n      <td>0.00</td>\n      <td>0.0000</td>\n      <td>0.000</td>\n      <td>0.0</td>\n      <td>0.0</td>\n      <td>0.0</td>\n    </tr>\n    <tr>\n      <th>2</th>\n      <td>258</td>\n      <td>2</td>\n      <td>13</td>\n      <td>16</td>\n      <td>0</td>\n      <td>1010</td>\n      <td>1030</td>\n      <td>90.00</td>\n      <td>15.80</td>\n      <td>0.240</td>\n      <td>9.00</td>\n      <td>0.0000</td>\n      <td>0.600</td>\n      <td>0.0</td>\n      <td>0.0</td>\n      <td>0.0</td>\n    </tr>\n    <tr>\n      <th>3</th>\n      <td>407</td>\n      <td>2</td>\n      <td>20</td>\n      <td>4</td>\n      <td>1</td>\n      <td>1160</td>\n      <td>1080</td>\n      <td>90.00</td>\n      <td>20.64</td>\n      <td>6.440</td>\n      <td>12.00</td>\n      <td>0.6000</td>\n      <td>1.200</td>\n      <td>0.0</td>\n      <td>0.0</td>\n      <td>1.0</td>\n    </tr>\n    <tr>\n      <th>4</th>\n      <td>182</td>\n      <td>2</td>\n      <td>10</td>\n      <td>3</td>\n      <td>1</td>\n      <td>1070</td>\n      <td>1340</td>\n      <td>105.40</td>\n      <td>32.88</td>\n      <td>45.020</td>\n      <td>11.60</td>\n      <td>2.3180</td>\n      <td>1.706</td>\n      <td>0.0</td>\n      <td>0.0</td>\n      <td>1.0</td>\n    </tr>\n    <tr>\n      <th>5</th>\n      <td>128</td>\n      <td>2</td>\n      <td>7</td>\n      <td>18</td>\n      <td>1</td>\n      <td>1120</td>\n      <td>1040</td>\n      <td>75.50</td>\n      <td>12.30</td>\n      <td>0.100</td>\n      <td>0.00</td>\n      <td>0.0000</td>\n      <td>0.000</td>\n      <td>0.0</td>\n      <td>0.0</td>\n      <td>0.0</td>\n    </tr>\n    <tr>\n      <th>6</th>\n      <td>65</td>\n      <td>2</td>\n      <td>3</td>\n      <td>10</td>\n      <td>0</td>\n      <td>1300</td>\n      <td>1180</td>\n      <td>90.00</td>\n      <td>18.75</td>\n      <td>10.725</td>\n      <td>1.50</td>\n      <td>0.5000</td>\n      <td>0.250</td>\n      <td>0.0</td>\n      <td>0.0</td>\n      <td>1.0</td>\n    </tr>\n    <tr>\n      <th>7</th>\n      <td>301</td>\n      <td>3</td>\n      <td>15</td>\n      <td>14</td>\n      <td>1</td>\n      <td>1000</td>\n      <td>1060</td>\n      <td>90.00</td>\n      <td>17.80</td>\n      <td>22.440</td>\n      <td>19.40</td>\n      <td>1.2000</td>\n      <td>1.600</td>\n      <td>0.0</td>\n      <td>0.0</td>\n      <td>1.0</td>\n    </tr>\n    <tr>\n      <th>8</th>\n      <td>191</td>\n      <td>3</td>\n      <td>10</td>\n      <td>3</td>\n      <td>1</td>\n      <td>1070</td>\n      <td>1340</td>\n      <td>106.80</td>\n      <td>48.04</td>\n      <td>30.500</td>\n      <td>96.40</td>\n      <td>2.1060</td>\n      <td>4.518</td>\n      <td>1.0</td>\n      <td>0.0</td>\n      <td>1.0</td>\n    </tr>\n    <tr>\n      <th>9</th>\n      <td>463</td>\n      <td>3</td>\n      <td>6</td>\n      <td>8</td>\n      <td>1</td>\n      <td>1190</td>\n      <td>1310</td>\n      <td>69.20</td>\n      <td>12.88</td>\n      <td>22.800</td>\n      <td>20.00</td>\n      <td>1.6140</td>\n      <td>1.778</td>\n      <td>0.0</td>\n      <td>0.0</td>\n      <td>1.0</td>\n    </tr>\n    <tr>\n      <th>10</th>\n      <td>171</td>\n      <td>3</td>\n      <td>9</td>\n      <td>2</td>\n      <td>1</td>\n      <td>1060</td>\n      <td>1110</td>\n      <td>90.00</td>\n      <td>15.76</td>\n      <td>47.420</td>\n      <td>22.40</td>\n      <td>3.6000</td>\n      <td>2.000</td>\n      <td>0.0</td>\n      <td>0.0</td>\n      <td>1.0</td>\n    </tr>\n    <tr>\n      <th>11</th>\n      <td>215</td>\n      <td>3</td>\n      <td>11</td>\n      <td>12</td>\n      <td>0</td>\n      <td>1270</td>\n      <td>1370</td>\n      <td>87.60</td>\n      <td>31.80</td>\n      <td>65.900</td>\n      <td>27.60</td>\n      <td>4.1500</td>\n      <td>3.250</td>\n      <td>1.0</td>\n      <td>0.0</td>\n      <td>1.0</td>\n    </tr>\n    <tr>\n      <th>12</th>\n      <td>409</td>\n      <td>4</td>\n      <td>20</td>\n      <td>4</td>\n      <td>1</td>\n      <td>1160</td>\n      <td>1080</td>\n      <td>86.20</td>\n      <td>30.40</td>\n      <td>12.940</td>\n      <td>51.80</td>\n      <td>1.0860</td>\n      <td>4.216</td>\n      <td>1.0</td>\n      <td>0.0</td>\n      <td>1.0</td>\n    </tr>\n    <tr>\n      <th>13</th>\n      <td>313</td>\n      <td>4</td>\n      <td>16</td>\n      <td>13</td>\n      <td>1</td>\n      <td>1090</td>\n      <td>1050</td>\n      <td>80.25</td>\n      <td>17.05</td>\n      <td>13.100</td>\n      <td>47.25</td>\n      <td>1.2425</td>\n      <td>2.645</td>\n      <td>0.0</td>\n      <td>1.0</td>\n      <td>1.0</td>\n    </tr>\n    <tr>\n      <th>14</th>\n      <td>187</td>\n      <td>4</td>\n      <td>10</td>\n      <td>3</td>\n      <td>1</td>\n      <td>1070</td>\n      <td>1340</td>\n      <td>106.40</td>\n      <td>28.56</td>\n      <td>31.960</td>\n      <td>57.80</td>\n      <td>2.1360</td>\n      <td>3.236</td>\n      <td>0.0</td>\n      <td>0.0</td>\n      <td>1.0</td>\n    </tr>\n  </tbody>\n</table>\n</div>",
      "text/plain": "     id  pos  team  opp  home  opp_att   def      MP      I       C      T  \\\n0   131    1     7   18     1     1120  1040   90.00  24.20   0.000   0.00   \n1    48    1     4   20     0     1110  1130    0.00   0.00   0.000   0.00   \n2   258    2    13   16     0     1010  1030   90.00  15.80   0.240   9.00   \n3   407    2    20    4     1     1160  1080   90.00  20.64   6.440  12.00   \n4   182    2    10    3     1     1070  1340  105.40  32.88  45.020  11.60   \n5   128    2     7   18     1     1120  1040   75.50  12.30   0.100   0.00   \n6    65    2     3   10     0     1300  1180   90.00  18.75  10.725   1.50   \n7   301    3    15   14     1     1000  1060   90.00  17.80  22.440  19.40   \n8   191    3    10    3     1     1070  1340  106.80  48.04  30.500  96.40   \n9   463    3     6    8     1     1190  1310   69.20  12.88  22.800  20.00   \n10  171    3     9    2     1     1060  1110   90.00  15.76  47.420  22.40   \n11  215    3    11   12     0     1270  1370   87.60  31.80  65.900  27.60   \n12  409    4    20    4     1     1160  1080   86.20  30.40  12.940  51.80   \n13  313    4    16   13     1     1090  1050   80.25  17.05  13.100  47.25   \n14  187    4    10    3     1     1070  1340  106.40  28.56  31.960  57.80   \n\n      KP90   Sh90    G   CS    A  \n0   0.0000  0.000  0.0  0.0  0.0  \n1   0.0000  0.000  0.0  0.0  0.0  \n2   0.0000  0.600  0.0  0.0  0.0  \n3   0.6000  1.200  0.0  0.0  1.0  \n4   2.3180  1.706  0.0  0.0  1.0  \n5   0.0000  0.000  0.0  0.0  0.0  \n6   0.5000  0.250  0.0  0.0  1.0  \n7   1.2000  1.600  0.0  0.0  1.0  \n8   2.1060  4.518  1.0  0.0  1.0  \n9   1.6140  1.778  0.0  0.0  1.0  \n10  3.6000  2.000  0.0  0.0  1.0  \n11  4.1500  3.250  1.0  0.0  1.0  \n12  1.0860  4.216  1.0  0.0  1.0  \n13  1.2425  2.645  0.0  1.0  1.0  \n14  2.1360  3.236  0.0  0.0  1.0  "
     },
     "execution_count": 61,
     "metadata": {},
     "output_type": "execute_result"
    }
   ],
   "source": [
    "team_df"
   ]
  },
  {
   "cell_type": "markdown",
   "metadata": {},
   "source": [
    "Distribute points for each player, based on predicted features."
   ]
  },
  {
   "cell_type": "code",
   "execution_count": 62,
   "metadata": {},
   "outputs": [],
   "source": [
    "team_df['Pts']=np.where(team_df['MP']>59,2,np.where(team_df['MP']>0,1,0))"
   ]
  },
  {
   "cell_type": "code",
   "execution_count": 63,
   "metadata": {},
   "outputs": [],
   "source": [
    "team_df['Pts']=team_df['Pts']+np.where(team_df['CS']==1,np.where(np.logical_or(team_df['pos']==1,team_df['pos']==2),4,np.where(team_df['pos']==3,1,0)),0)"
   ]
  },
  {
   "cell_type": "code",
   "execution_count": 64,
   "metadata": {},
   "outputs": [],
   "source": [
    "team_df['Pts']=team_df['Pts']+np.where(team_df['A']>0,team_df['A']*3,0)"
   ]
  },
  {
   "cell_type": "code",
   "execution_count": 65,
   "metadata": {},
   "outputs": [],
   "source": [
    "team_df['Pts']=team_df['Pts']+np.where(team_df['G']>0,np.where(np.logical_or(team_df['pos']==1,team_df['pos']==2),6*team_df['G'],np.where(team_df['pos']==3,team_df['G']*5,team_df['G']*4)),0)"
   ]
  },
  {
   "cell_type": "markdown",
   "metadata": {},
   "source": [
    "Output team dataframe showing points for each player."
   ]
  },
  {
   "cell_type": "code",
   "execution_count": 66,
   "metadata": {},
   "outputs": [
    {
     "data": {
      "text/html": "<div>\n<style scoped>\n    .dataframe tbody tr th:only-of-type {\n        vertical-align: middle;\n    }\n\n    .dataframe tbody tr th {\n        vertical-align: top;\n    }\n\n    .dataframe thead th {\n        text-align: right;\n    }\n</style>\n<table border=\"1\" class=\"dataframe\">\n  <thead>\n    <tr style=\"text-align: right;\">\n      <th></th>\n      <th>id</th>\n      <th>pos</th>\n      <th>team</th>\n      <th>opp</th>\n      <th>home</th>\n      <th>opp_att</th>\n      <th>def</th>\n      <th>MP</th>\n      <th>I</th>\n      <th>C</th>\n      <th>T</th>\n      <th>KP90</th>\n      <th>Sh90</th>\n      <th>G</th>\n      <th>CS</th>\n      <th>A</th>\n      <th>Pts</th>\n    </tr>\n  </thead>\n  <tbody>\n    <tr>\n      <th>0</th>\n      <td>131</td>\n      <td>1</td>\n      <td>7</td>\n      <td>18</td>\n      <td>1</td>\n      <td>1120</td>\n      <td>1040</td>\n      <td>90.00</td>\n      <td>24.20</td>\n      <td>0.000</td>\n      <td>0.00</td>\n      <td>0.0000</td>\n      <td>0.000</td>\n      <td>0.0</td>\n      <td>0.0</td>\n      <td>0.0</td>\n      <td>2.0</td>\n    </tr>\n    <tr>\n      <th>1</th>\n      <td>48</td>\n      <td>1</td>\n      <td>4</td>\n      <td>20</td>\n      <td>0</td>\n      <td>1110</td>\n      <td>1130</td>\n      <td>0.00</td>\n      <td>0.00</td>\n      <td>0.000</td>\n      <td>0.00</td>\n      <td>0.0000</td>\n      <td>0.000</td>\n      <td>0.0</td>\n      <td>0.0</td>\n      <td>0.0</td>\n      <td>0.0</td>\n    </tr>\n    <tr>\n      <th>2</th>\n      <td>258</td>\n      <td>2</td>\n      <td>13</td>\n      <td>16</td>\n      <td>0</td>\n      <td>1010</td>\n      <td>1030</td>\n      <td>90.00</td>\n      <td>15.80</td>\n      <td>0.240</td>\n      <td>9.00</td>\n      <td>0.0000</td>\n      <td>0.600</td>\n      <td>0.0</td>\n      <td>0.0</td>\n      <td>0.0</td>\n      <td>2.0</td>\n    </tr>\n    <tr>\n      <th>3</th>\n      <td>407</td>\n      <td>2</td>\n      <td>20</td>\n      <td>4</td>\n      <td>1</td>\n      <td>1160</td>\n      <td>1080</td>\n      <td>90.00</td>\n      <td>20.64</td>\n      <td>6.440</td>\n      <td>12.00</td>\n      <td>0.6000</td>\n      <td>1.200</td>\n      <td>0.0</td>\n      <td>0.0</td>\n      <td>1.0</td>\n      <td>5.0</td>\n    </tr>\n    <tr>\n      <th>4</th>\n      <td>182</td>\n      <td>2</td>\n      <td>10</td>\n      <td>3</td>\n      <td>1</td>\n      <td>1070</td>\n      <td>1340</td>\n      <td>105.40</td>\n      <td>32.88</td>\n      <td>45.020</td>\n      <td>11.60</td>\n      <td>2.3180</td>\n      <td>1.706</td>\n      <td>0.0</td>\n      <td>0.0</td>\n      <td>1.0</td>\n      <td>5.0</td>\n    </tr>\n    <tr>\n      <th>5</th>\n      <td>128</td>\n      <td>2</td>\n      <td>7</td>\n      <td>18</td>\n      <td>1</td>\n      <td>1120</td>\n      <td>1040</td>\n      <td>75.50</td>\n      <td>12.30</td>\n      <td>0.100</td>\n      <td>0.00</td>\n      <td>0.0000</td>\n      <td>0.000</td>\n      <td>0.0</td>\n      <td>0.0</td>\n      <td>0.0</td>\n      <td>2.0</td>\n    </tr>\n    <tr>\n      <th>6</th>\n      <td>65</td>\n      <td>2</td>\n      <td>3</td>\n      <td>10</td>\n      <td>0</td>\n      <td>1300</td>\n      <td>1180</td>\n      <td>90.00</td>\n      <td>18.75</td>\n      <td>10.725</td>\n      <td>1.50</td>\n      <td>0.5000</td>\n      <td>0.250</td>\n      <td>0.0</td>\n      <td>0.0</td>\n      <td>1.0</td>\n      <td>5.0</td>\n    </tr>\n    <tr>\n      <th>7</th>\n      <td>301</td>\n      <td>3</td>\n      <td>15</td>\n      <td>14</td>\n      <td>1</td>\n      <td>1000</td>\n      <td>1060</td>\n      <td>90.00</td>\n      <td>17.80</td>\n      <td>22.440</td>\n      <td>19.40</td>\n      <td>1.2000</td>\n      <td>1.600</td>\n      <td>0.0</td>\n      <td>0.0</td>\n      <td>1.0</td>\n      <td>5.0</td>\n    </tr>\n    <tr>\n      <th>8</th>\n      <td>191</td>\n      <td>3</td>\n      <td>10</td>\n      <td>3</td>\n      <td>1</td>\n      <td>1070</td>\n      <td>1340</td>\n      <td>106.80</td>\n      <td>48.04</td>\n      <td>30.500</td>\n      <td>96.40</td>\n      <td>2.1060</td>\n      <td>4.518</td>\n      <td>1.0</td>\n      <td>0.0</td>\n      <td>1.0</td>\n      <td>10.0</td>\n    </tr>\n    <tr>\n      <th>9</th>\n      <td>463</td>\n      <td>3</td>\n      <td>6</td>\n      <td>8</td>\n      <td>1</td>\n      <td>1190</td>\n      <td>1310</td>\n      <td>69.20</td>\n      <td>12.88</td>\n      <td>22.800</td>\n      <td>20.00</td>\n      <td>1.6140</td>\n      <td>1.778</td>\n      <td>0.0</td>\n      <td>0.0</td>\n      <td>1.0</td>\n      <td>5.0</td>\n    </tr>\n    <tr>\n      <th>10</th>\n      <td>171</td>\n      <td>3</td>\n      <td>9</td>\n      <td>2</td>\n      <td>1</td>\n      <td>1060</td>\n      <td>1110</td>\n      <td>90.00</td>\n      <td>15.76</td>\n      <td>47.420</td>\n      <td>22.40</td>\n      <td>3.6000</td>\n      <td>2.000</td>\n      <td>0.0</td>\n      <td>0.0</td>\n      <td>1.0</td>\n      <td>5.0</td>\n    </tr>\n    <tr>\n      <th>11</th>\n      <td>215</td>\n      <td>3</td>\n      <td>11</td>\n      <td>12</td>\n      <td>0</td>\n      <td>1270</td>\n      <td>1370</td>\n      <td>87.60</td>\n      <td>31.80</td>\n      <td>65.900</td>\n      <td>27.60</td>\n      <td>4.1500</td>\n      <td>3.250</td>\n      <td>1.0</td>\n      <td>0.0</td>\n      <td>1.0</td>\n      <td>10.0</td>\n    </tr>\n    <tr>\n      <th>12</th>\n      <td>409</td>\n      <td>4</td>\n      <td>20</td>\n      <td>4</td>\n      <td>1</td>\n      <td>1160</td>\n      <td>1080</td>\n      <td>86.20</td>\n      <td>30.40</td>\n      <td>12.940</td>\n      <td>51.80</td>\n      <td>1.0860</td>\n      <td>4.216</td>\n      <td>1.0</td>\n      <td>0.0</td>\n      <td>1.0</td>\n      <td>9.0</td>\n    </tr>\n    <tr>\n      <th>13</th>\n      <td>313</td>\n      <td>4</td>\n      <td>16</td>\n      <td>13</td>\n      <td>1</td>\n      <td>1090</td>\n      <td>1050</td>\n      <td>80.25</td>\n      <td>17.05</td>\n      <td>13.100</td>\n      <td>47.25</td>\n      <td>1.2425</td>\n      <td>2.645</td>\n      <td>0.0</td>\n      <td>1.0</td>\n      <td>1.0</td>\n      <td>5.0</td>\n    </tr>\n    <tr>\n      <th>14</th>\n      <td>187</td>\n      <td>4</td>\n      <td>10</td>\n      <td>3</td>\n      <td>1</td>\n      <td>1070</td>\n      <td>1340</td>\n      <td>106.40</td>\n      <td>28.56</td>\n      <td>31.960</td>\n      <td>57.80</td>\n      <td>2.1360</td>\n      <td>3.236</td>\n      <td>0.0</td>\n      <td>0.0</td>\n      <td>1.0</td>\n      <td>5.0</td>\n    </tr>\n  </tbody>\n</table>\n</div>",
      "text/plain": "     id  pos  team  opp  home  opp_att   def      MP      I       C      T  \\\n0   131    1     7   18     1     1120  1040   90.00  24.20   0.000   0.00   \n1    48    1     4   20     0     1110  1130    0.00   0.00   0.000   0.00   \n2   258    2    13   16     0     1010  1030   90.00  15.80   0.240   9.00   \n3   407    2    20    4     1     1160  1080   90.00  20.64   6.440  12.00   \n4   182    2    10    3     1     1070  1340  105.40  32.88  45.020  11.60   \n5   128    2     7   18     1     1120  1040   75.50  12.30   0.100   0.00   \n6    65    2     3   10     0     1300  1180   90.00  18.75  10.725   1.50   \n7   301    3    15   14     1     1000  1060   90.00  17.80  22.440  19.40   \n8   191    3    10    3     1     1070  1340  106.80  48.04  30.500  96.40   \n9   463    3     6    8     1     1190  1310   69.20  12.88  22.800  20.00   \n10  171    3     9    2     1     1060  1110   90.00  15.76  47.420  22.40   \n11  215    3    11   12     0     1270  1370   87.60  31.80  65.900  27.60   \n12  409    4    20    4     1     1160  1080   86.20  30.40  12.940  51.80   \n13  313    4    16   13     1     1090  1050   80.25  17.05  13.100  47.25   \n14  187    4    10    3     1     1070  1340  106.40  28.56  31.960  57.80   \n\n      KP90   Sh90    G   CS    A   Pts  \n0   0.0000  0.000  0.0  0.0  0.0   2.0  \n1   0.0000  0.000  0.0  0.0  0.0   0.0  \n2   0.0000  0.600  0.0  0.0  0.0   2.0  \n3   0.6000  1.200  0.0  0.0  1.0   5.0  \n4   2.3180  1.706  0.0  0.0  1.0   5.0  \n5   0.0000  0.000  0.0  0.0  0.0   2.0  \n6   0.5000  0.250  0.0  0.0  1.0   5.0  \n7   1.2000  1.600  0.0  0.0  1.0   5.0  \n8   2.1060  4.518  1.0  0.0  1.0  10.0  \n9   1.6140  1.778  0.0  0.0  1.0   5.0  \n10  3.6000  2.000  0.0  0.0  1.0   5.0  \n11  4.1500  3.250  1.0  0.0  1.0  10.0  \n12  1.0860  4.216  1.0  0.0  1.0   9.0  \n13  1.2425  2.645  0.0  1.0  1.0   5.0  \n14  2.1360  3.236  0.0  0.0  1.0   5.0  "
     },
     "execution_count": 66,
     "metadata": {},
     "output_type": "execute_result"
    }
   ],
   "source": [
    "team_df"
   ]
  },
  {
   "cell_type": "markdown",
   "metadata": {},
   "source": [
    "output players to captain and vice captain, and total team points for gameweek"
   ]
  },
  {
   "cell_type": "code",
   "execution_count": 67,
   "metadata": {},
   "outputs": [
    {
     "name": "stdout",
     "output_type": "stream",
     "text": "Pts:  75.0 \n Captain and Vice Captain:  [191, 215]\n"
    }
   ],
   "source": [
    "print('Pts: ',team_df['Pts'].sum(),'\\n','Captain and Vice Captain: ',team_df.nlargest(2,'Pts')['id'].tolist())"
   ]
  }
 ]
}