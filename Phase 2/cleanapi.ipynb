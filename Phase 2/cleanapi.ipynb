{
 "nbformat": 4,
 "nbformat_minor": 2,
 "metadata": {
  "language_info": {
   "name": "python",
   "codemirror_mode": {
    "name": "ipython",
    "version": 3
   },
   "version": "3.8.1-final"
  },
  "orig_nbformat": 2,
  "file_extension": ".py",
  "mimetype": "text/x-python",
  "name": "python",
  "npconvert_exporter": "python",
  "pygments_lexer": "ipython3",
  "version": 3,
  "kernelspec": {
   "name": "python38132bit85bd24598f7e4575af25ce7fa37bd907",
   "display_name": "Python 3.8.1 32-bit"
  }
 },
 "cells": [
  {
   "cell_type": "markdown",
   "metadata": {},
   "source": [
    "# API Cleaning"
   ]
  },
  {
   "cell_type": "code",
   "execution_count": 1,
   "metadata": {},
   "outputs": [],
   "source": [
    "import pandas as pd\n",
    "import numpy as np\n",
    "import unicodedata"
   ]
  },
  {
   "cell_type": "markdown",
   "metadata": {},
   "source": [
    "## Fixture Gameweek Data Cleaning"
   ]
  },
  {
   "cell_type": "code",
   "execution_count": 2,
   "metadata": {},
   "outputs": [],
   "source": [
    "df=pd.read_csv('fixture_gw/fixture_gw1.csv')"
   ]
  },
  {
   "cell_type": "code",
   "execution_count": 3,
   "metadata": {},
   "outputs": [
    {
     "data": {
      "text/html": "<div>\n<style scoped>\n    .dataframe tbody tr th:only-of-type {\n        vertical-align: middle;\n    }\n\n    .dataframe tbody tr th {\n        vertical-align: top;\n    }\n\n    .dataframe thead th {\n        text-align: right;\n    }\n</style>\n<table border=\"1\" class=\"dataframe\">\n  <thead>\n    <tr style=\"text-align: right;\">\n      <th></th>\n      <th>Unnamed: 0</th>\n      <th>code</th>\n      <th>event</th>\n      <th>finished</th>\n      <th>finished_provisional</th>\n      <th>id</th>\n      <th>kickoff_time</th>\n      <th>minutes</th>\n      <th>provisional_start_time</th>\n      <th>started</th>\n      <th>team_a</th>\n      <th>team_a_score</th>\n      <th>team_h</th>\n      <th>team_h_score</th>\n      <th>stats</th>\n      <th>team_h_difficulty</th>\n      <th>team_a_difficulty</th>\n    </tr>\n  </thead>\n  <tbody>\n    <tr>\n      <th>0</th>\n      <td>0</td>\n      <td>1059702</td>\n      <td>1</td>\n      <td>True</td>\n      <td>True</td>\n      <td>1</td>\n      <td>2019-08-09T19:00:00Z</td>\n      <td>90</td>\n      <td>False</td>\n      <td>True</td>\n      <td>14</td>\n      <td>1</td>\n      <td>10</td>\n      <td>4</td>\n      <td>[{'identifier': 'goals_scored', 'a': [{'value'...</td>\n      <td>2</td>\n      <td>5</td>\n    </tr>\n    <tr>\n      <th>1</th>\n      <td>1</td>\n      <td>1059709</td>\n      <td>1</td>\n      <td>True</td>\n      <td>True</td>\n      <td>8</td>\n      <td>2019-08-10T11:30:00Z</td>\n      <td>90</td>\n      <td>False</td>\n      <td>True</td>\n      <td>11</td>\n      <td>5</td>\n      <td>19</td>\n      <td>0</td>\n      <td>[{'identifier': 'goals_scored', 'a': [{'value'...</td>\n      <td>4</td>\n      <td>2</td>\n    </tr>\n    <tr>\n      <th>2</th>\n      <td>2</td>\n      <td>1059703</td>\n      <td>1</td>\n      <td>True</td>\n      <td>True</td>\n      <td>2</td>\n      <td>2019-08-10T14:00:00Z</td>\n      <td>90</td>\n      <td>False</td>\n      <td>True</td>\n      <td>15</td>\n      <td>1</td>\n      <td>3</td>\n      <td>1</td>\n      <td>[{'identifier': 'goals_scored', 'a': [{'value'...</td>\n      <td>3</td>\n      <td>3</td>\n    </tr>\n    <tr>\n      <th>3</th>\n      <td>3</td>\n      <td>1059704</td>\n      <td>1</td>\n      <td>True</td>\n      <td>True</td>\n      <td>3</td>\n      <td>2019-08-10T14:00:00Z</td>\n      <td>90</td>\n      <td>False</td>\n      <td>True</td>\n      <td>16</td>\n      <td>0</td>\n      <td>5</td>\n      <td>3</td>\n      <td>[{'identifier': 'goals_scored', 'a': [], 'h': ...</td>\n      <td>2</td>\n      <td>3</td>\n    </tr>\n    <tr>\n      <th>4</th>\n      <td>4</td>\n      <td>1059705</td>\n      <td>1</td>\n      <td>True</td>\n      <td>True</td>\n      <td>4</td>\n      <td>2019-08-10T14:00:00Z</td>\n      <td>90</td>\n      <td>False</td>\n      <td>True</td>\n      <td>8</td>\n      <td>0</td>\n      <td>7</td>\n      <td>0</td>\n      <td>[{'identifier': 'goals_scored', 'a': [], 'h': ...</td>\n      <td>2</td>\n      <td>2</td>\n    </tr>\n  </tbody>\n</table>\n</div>",
      "text/plain": "   Unnamed: 0     code  event  finished  finished_provisional  id  \\\n0           0  1059702      1      True                  True   1   \n1           1  1059709      1      True                  True   8   \n2           2  1059703      1      True                  True   2   \n3           3  1059704      1      True                  True   3   \n4           4  1059705      1      True                  True   4   \n\n           kickoff_time  minutes  provisional_start_time  started  team_a  \\\n0  2019-08-09T19:00:00Z       90                   False     True      14   \n1  2019-08-10T11:30:00Z       90                   False     True      11   \n2  2019-08-10T14:00:00Z       90                   False     True      15   \n3  2019-08-10T14:00:00Z       90                   False     True      16   \n4  2019-08-10T14:00:00Z       90                   False     True       8   \n\n   team_a_score  team_h  team_h_score  \\\n0             1      10             4   \n1             5      19             0   \n2             1       3             1   \n3             0       5             3   \n4             0       7             0   \n\n                                               stats  team_h_difficulty  \\\n0  [{'identifier': 'goals_scored', 'a': [{'value'...                  2   \n1  [{'identifier': 'goals_scored', 'a': [{'value'...                  4   \n2  [{'identifier': 'goals_scored', 'a': [{'value'...                  3   \n3  [{'identifier': 'goals_scored', 'a': [], 'h': ...                  2   \n4  [{'identifier': 'goals_scored', 'a': [], 'h': ...                  2   \n\n   team_a_difficulty  \n0                  5  \n1                  2  \n2                  3  \n3                  3  \n4                  2  "
     },
     "execution_count": 3,
     "metadata": {},
     "output_type": "execute_result"
    }
   ],
   "source": [
    "df.head()"
   ]
  },
  {
   "cell_type": "code",
   "execution_count": 4,
   "metadata": {},
   "outputs": [],
   "source": [
    "df.set_index('id',inplace=True)"
   ]
  },
  {
   "cell_type": "markdown",
   "metadata": {},
   "source": [
    "Fixture gw already has an id feature, so this is used. "
   ]
  },
  {
   "cell_type": "code",
   "execution_count": 5,
   "metadata": {},
   "outputs": [
    {
     "data": {
      "text/plain": "Index(['Unnamed: 0', 'code', 'event', 'finished', 'finished_provisional',\n       'kickoff_time', 'minutes', 'provisional_start_time', 'started',\n       'team_a', 'team_a_score', 'team_h', 'team_h_score', 'stats',\n       'team_h_difficulty', 'team_a_difficulty'],\n      dtype='object')"
     },
     "execution_count": 5,
     "metadata": {},
     "output_type": "execute_result"
    }
   ],
   "source": [
    "df.columns"
   ]
  },
  {
   "cell_type": "code",
   "execution_count": 6,
   "metadata": {},
   "outputs": [],
   "source": [
    "df.drop(columns=['finished','finished_provisional','minutes','provisional_start_time','started','stats','Unnamed: 0'],inplace=True)"
   ]
  },
  {
   "cell_type": "markdown",
   "metadata": {},
   "source": [
    "The removed columns have values that are not important to analysis. finished, finished provisional, minutes, provisional start time, started all have the same value for each entry and are not important to analysis. Stats is a feature used by the website to display the other features and is thus not important to analysis. Unnamed: 0 is unneeded data that was created due to the way in which data was gathered."
   ]
  },
  {
   "cell_type": "code",
   "execution_count": 7,
   "metadata": {},
   "outputs": [
    {
     "data": {
      "text/plain": "code                  int64\nevent                 int64\nkickoff_time         object\nteam_a                int64\nteam_a_score          int64\nteam_h                int64\nteam_h_score          int64\nteam_h_difficulty     int64\nteam_a_difficulty     int64\ndtype: object"
     },
     "execution_count": 7,
     "metadata": {},
     "output_type": "execute_result"
    }
   ],
   "source": [
    "df.dtypes"
   ]
  },
  {
   "cell_type": "code",
   "execution_count": 8,
   "metadata": {},
   "outputs": [],
   "source": [
    "for i in range(1,28):\n",
    "    df=pd.read_csv('C:/Users/nath1/Documents/CS/105/project/fixture_gw/fixture_gw'+str(i)+'.csv')\n",
    "    df.set_index('id',inplace=True)\n",
    "    df.drop(columns=['finished','finished_provisional','minutes','provisional_start_time','started','stats','Unnamed: 0'],inplace=True)\n",
    "    df.to_csv('C:/Users/nath1/Documents/CS/105/project/fixture_gw_clean/fixture_gw_clean'+str(i)+'.csv')"
   ]
  },
  {
   "cell_type": "markdown",
   "metadata": {},
   "source": [
    "The above cleaning processes were executed on all fixture_gw files"
   ]
  },
  {
   "cell_type": "code",
   "execution_count": 9,
   "metadata": {},
   "outputs": [],
   "source": [
    "df_all=pd.read_csv('C:/Users/nath1/Documents/CS/105/project/fixture_gw_clean/fixture_gw_clean1.csv')\n",
    "for i in range(2,28):\n",
    "    df_temp=pd.read_csv('C:/Users/nath1/Documents/CS/105/project/fixture_gw_clean/fixture_gw_clean'+str(i)+'.csv')\n",
    "    df_all=pd.concat([df_all,df_temp],axis=0)\n",
    "df_all.to_csv('C:/Users/nath1/Documents/CS/105/project/fixture_gw_clean/fixture_gw_clean_all.csv')"
   ]
  },
  {
   "cell_type": "markdown",
   "metadata": {},
   "source": [
    "All fixture data concatenated into one CSV file."
   ]
  },
  {
   "cell_type": "markdown",
   "metadata": {},
   "source": [
    "## Player Gameweek Data Cleaning"
   ]
  },
  {
   "cell_type": "code",
   "execution_count": 10,
   "metadata": {},
   "outputs": [],
   "source": [
    "df2=pd.read_csv('player_gw/player_gw1.csv')"
   ]
  },
  {
   "cell_type": "code",
   "execution_count": 11,
   "metadata": {},
   "outputs": [
    {
     "data": {
      "text/html": "<div>\n<style scoped>\n    .dataframe tbody tr th:only-of-type {\n        vertical-align: middle;\n    }\n\n    .dataframe tbody tr th {\n        vertical-align: top;\n    }\n\n    .dataframe thead th {\n        text-align: right;\n    }\n</style>\n<table border=\"1\" class=\"dataframe\">\n  <thead>\n    <tr style=\"text-align: right;\">\n      <th></th>\n      <th>Unnamed: 0</th>\n      <th>id</th>\n      <th>explain</th>\n      <th>stats.minutes</th>\n      <th>stats.goals_scored</th>\n      <th>stats.assists</th>\n      <th>stats.clean_sheets</th>\n      <th>stats.goals_conceded</th>\n      <th>stats.own_goals</th>\n      <th>stats.penalties_saved</th>\n      <th>...</th>\n      <th>stats.red_cards</th>\n      <th>stats.saves</th>\n      <th>stats.bonus</th>\n      <th>stats.bps</th>\n      <th>stats.influence</th>\n      <th>stats.creativity</th>\n      <th>stats.threat</th>\n      <th>stats.ict_index</th>\n      <th>stats.total_points</th>\n      <th>stats.in_dreamteam</th>\n    </tr>\n  </thead>\n  <tbody>\n    <tr>\n      <th>0</th>\n      <td>0</td>\n      <td>14</td>\n      <td>[{'fixture': 10, 'stats': [{'identifier': 'min...</td>\n      <td>90</td>\n      <td>0</td>\n      <td>0</td>\n      <td>1</td>\n      <td>0</td>\n      <td>0</td>\n      <td>0</td>\n      <td>...</td>\n      <td>0</td>\n      <td>2</td>\n      <td>1</td>\n      <td>27</td>\n      <td>18.0</td>\n      <td>0.0</td>\n      <td>0.0</td>\n      <td>1.8</td>\n      <td>7</td>\n      <td>False</td>\n    </tr>\n    <tr>\n      <th>1</th>\n      <td>1</td>\n      <td>27</td>\n      <td>[{'fixture': 6, 'stats': [{'identifier': 'minu...</td>\n      <td>0</td>\n      <td>0</td>\n      <td>0</td>\n      <td>0</td>\n      <td>0</td>\n      <td>0</td>\n      <td>0</td>\n      <td>...</td>\n      <td>0</td>\n      <td>0</td>\n      <td>0</td>\n      <td>0</td>\n      <td>0.0</td>\n      <td>0.0</td>\n      <td>0.0</td>\n      <td>0.0</td>\n      <td>0</td>\n      <td>False</td>\n    </tr>\n    <tr>\n      <th>2</th>\n      <td>2</td>\n      <td>47</td>\n      <td>[{'fixture': 7, 'stats': [{'identifier': 'minu...</td>\n      <td>90</td>\n      <td>0</td>\n      <td>0</td>\n      <td>1</td>\n      <td>0</td>\n      <td>0</td>\n      <td>0</td>\n      <td>...</td>\n      <td>0</td>\n      <td>3</td>\n      <td>2</td>\n      <td>29</td>\n      <td>25.4</td>\n      <td>0.0</td>\n      <td>0.0</td>\n      <td>2.5</td>\n      <td>9</td>\n      <td>False</td>\n    </tr>\n    <tr>\n      <th>3</th>\n      <td>3</td>\n      <td>48</td>\n      <td>[{'fixture': 7, 'stats': [{'identifier': 'minu...</td>\n      <td>0</td>\n      <td>0</td>\n      <td>0</td>\n      <td>0</td>\n      <td>0</td>\n      <td>0</td>\n      <td>0</td>\n      <td>...</td>\n      <td>0</td>\n      <td>0</td>\n      <td>0</td>\n      <td>0</td>\n      <td>0.0</td>\n      <td>0.0</td>\n      <td>0.0</td>\n      <td>0.0</td>\n      <td>0</td>\n      <td>False</td>\n    </tr>\n    <tr>\n      <th>4</th>\n      <td>4</td>\n      <td>72</td>\n      <td>[{'fixture': 2, 'stats': [{'identifier': 'minu...</td>\n      <td>0</td>\n      <td>0</td>\n      <td>0</td>\n      <td>0</td>\n      <td>0</td>\n      <td>0</td>\n      <td>0</td>\n      <td>...</td>\n      <td>0</td>\n      <td>0</td>\n      <td>0</td>\n      <td>0</td>\n      <td>0.0</td>\n      <td>0.0</td>\n      <td>0.0</td>\n      <td>0.0</td>\n      <td>0</td>\n      <td>False</td>\n    </tr>\n  </tbody>\n</table>\n<p>5 rows × 22 columns</p>\n</div>",
      "text/plain": "   Unnamed: 0  id                                            explain  \\\n0           0  14  [{'fixture': 10, 'stats': [{'identifier': 'min...   \n1           1  27  [{'fixture': 6, 'stats': [{'identifier': 'minu...   \n2           2  47  [{'fixture': 7, 'stats': [{'identifier': 'minu...   \n3           3  48  [{'fixture': 7, 'stats': [{'identifier': 'minu...   \n4           4  72  [{'fixture': 2, 'stats': [{'identifier': 'minu...   \n\n   stats.minutes  stats.goals_scored  stats.assists  stats.clean_sheets  \\\n0             90                   0              0                   1   \n1              0                   0              0                   0   \n2             90                   0              0                   1   \n3              0                   0              0                   0   \n4              0                   0              0                   0   \n\n   stats.goals_conceded  stats.own_goals  stats.penalties_saved  ...  \\\n0                     0                0                      0  ...   \n1                     0                0                      0  ...   \n2                     0                0                      0  ...   \n3                     0                0                      0  ...   \n4                     0                0                      0  ...   \n\n   stats.red_cards  stats.saves  stats.bonus  stats.bps  stats.influence  \\\n0                0            2            1         27             18.0   \n1                0            0            0          0              0.0   \n2                0            3            2         29             25.4   \n3                0            0            0          0              0.0   \n4                0            0            0          0              0.0   \n\n   stats.creativity  stats.threat  stats.ict_index  stats.total_points  \\\n0               0.0           0.0              1.8                   7   \n1               0.0           0.0              0.0                   0   \n2               0.0           0.0              2.5                   9   \n3               0.0           0.0              0.0                   0   \n4               0.0           0.0              0.0                   0   \n\n   stats.in_dreamteam  \n0               False  \n1               False  \n2               False  \n3               False  \n4               False  \n\n[5 rows x 22 columns]"
     },
     "execution_count": 11,
     "metadata": {},
     "output_type": "execute_result"
    }
   ],
   "source": [
    "df2.head()"
   ]
  },
  {
   "cell_type": "code",
   "execution_count": 12,
   "metadata": {},
   "outputs": [],
   "source": [
    "df2['explain']=df2['explain'].str[12:]"
   ]
  },
  {
   "cell_type": "code",
   "execution_count": 13,
   "metadata": {},
   "outputs": [],
   "source": [
    "df2['explain']=df2['explain'].str[:3]"
   ]
  },
  {
   "cell_type": "code",
   "execution_count": 14,
   "metadata": {},
   "outputs": [],
   "source": [
    "df2['explain']=df2['explain'].str.strip(', \\'')"
   ]
  },
  {
   "cell_type": "code",
   "execution_count": 15,
   "metadata": {},
   "outputs": [],
   "source": [
    "df2.rename(columns={'explain':'fixture_id'},inplace=True)"
   ]
  },
  {
   "cell_type": "code",
   "execution_count": 16,
   "metadata": {},
   "outputs": [],
   "source": [
    "df2['fixture_id']=df2['fixture_id'].astype(int)"
   ]
  },
  {
   "cell_type": "markdown",
   "metadata": {},
   "source": [
    "Player gw data 'explain' column carries a lot of unneeded information that is for FPL website use. Above code modifies it to extract the useful data (fixture id) and rename the column as such."
   ]
  },
  {
   "cell_type": "code",
   "execution_count": 17,
   "metadata": {},
   "outputs": [
    {
     "data": {
      "text/plain": "Index(['Unnamed: 0', 'id', 'fixture_id', 'stats.minutes', 'stats.goals_scored',\n       'stats.assists', 'stats.clean_sheets', 'stats.goals_conceded',\n       'stats.own_goals', 'stats.penalties_saved', 'stats.penalties_missed',\n       'stats.yellow_cards', 'stats.red_cards', 'stats.saves', 'stats.bonus',\n       'stats.bps', 'stats.influence', 'stats.creativity', 'stats.threat',\n       'stats.ict_index', 'stats.total_points', 'stats.in_dreamteam'],\n      dtype='object')"
     },
     "execution_count": 17,
     "metadata": {},
     "output_type": "execute_result"
    }
   ],
   "source": [
    "df2.columns"
   ]
  },
  {
   "cell_type": "code",
   "execution_count": 18,
   "metadata": {},
   "outputs": [],
   "source": [
    "df2=df2.drop(columns=['Unnamed: 0'])"
   ]
  },
  {
   "cell_type": "markdown",
   "metadata": {},
   "source": [
    "Unnamed: 0 is unneeded data that was created due to the way in which data was gathered/saved."
   ]
  },
  {
   "cell_type": "code",
   "execution_count": 19,
   "metadata": {},
   "outputs": [],
   "source": [
    "df2.set_index('id',inplace=True)"
   ]
  },
  {
   "cell_type": "code",
   "execution_count": 20,
   "metadata": {},
   "outputs": [
    {
     "data": {
      "text/html": "<div>\n<style scoped>\n    .dataframe tbody tr th:only-of-type {\n        vertical-align: middle;\n    }\n\n    .dataframe tbody tr th {\n        vertical-align: top;\n    }\n\n    .dataframe thead th {\n        text-align: right;\n    }\n</style>\n<table border=\"1\" class=\"dataframe\">\n  <thead>\n    <tr style=\"text-align: right;\">\n      <th></th>\n      <th>fixture_id</th>\n      <th>stats.minutes</th>\n      <th>stats.goals_scored</th>\n      <th>stats.assists</th>\n      <th>stats.clean_sheets</th>\n      <th>stats.goals_conceded</th>\n      <th>stats.own_goals</th>\n      <th>stats.penalties_saved</th>\n      <th>stats.penalties_missed</th>\n      <th>stats.yellow_cards</th>\n      <th>stats.red_cards</th>\n      <th>stats.saves</th>\n      <th>stats.bonus</th>\n      <th>stats.bps</th>\n      <th>stats.influence</th>\n      <th>stats.creativity</th>\n      <th>stats.threat</th>\n      <th>stats.ict_index</th>\n      <th>stats.total_points</th>\n      <th>stats.in_dreamteam</th>\n    </tr>\n    <tr>\n      <th>id</th>\n      <th></th>\n      <th></th>\n      <th></th>\n      <th></th>\n      <th></th>\n      <th></th>\n      <th></th>\n      <th></th>\n      <th></th>\n      <th></th>\n      <th></th>\n      <th></th>\n      <th></th>\n      <th></th>\n      <th></th>\n      <th></th>\n      <th></th>\n      <th></th>\n      <th></th>\n      <th></th>\n    </tr>\n  </thead>\n  <tbody>\n    <tr>\n      <th>14</th>\n      <td>10</td>\n      <td>90</td>\n      <td>0</td>\n      <td>0</td>\n      <td>1</td>\n      <td>0</td>\n      <td>0</td>\n      <td>0</td>\n      <td>0</td>\n      <td>0</td>\n      <td>0</td>\n      <td>2</td>\n      <td>1</td>\n      <td>27</td>\n      <td>18.0</td>\n      <td>0.0</td>\n      <td>0.0</td>\n      <td>1.8</td>\n      <td>7</td>\n      <td>False</td>\n    </tr>\n    <tr>\n      <th>27</th>\n      <td>6</td>\n      <td>0</td>\n      <td>0</td>\n      <td>0</td>\n      <td>0</td>\n      <td>0</td>\n      <td>0</td>\n      <td>0</td>\n      <td>0</td>\n      <td>0</td>\n      <td>0</td>\n      <td>0</td>\n      <td>0</td>\n      <td>0</td>\n      <td>0.0</td>\n      <td>0.0</td>\n      <td>0.0</td>\n      <td>0.0</td>\n      <td>0</td>\n      <td>False</td>\n    </tr>\n    <tr>\n      <th>47</th>\n      <td>7</td>\n      <td>90</td>\n      <td>0</td>\n      <td>0</td>\n      <td>1</td>\n      <td>0</td>\n      <td>0</td>\n      <td>0</td>\n      <td>0</td>\n      <td>0</td>\n      <td>0</td>\n      <td>3</td>\n      <td>2</td>\n      <td>29</td>\n      <td>25.4</td>\n      <td>0.0</td>\n      <td>0.0</td>\n      <td>2.5</td>\n      <td>9</td>\n      <td>False</td>\n    </tr>\n    <tr>\n      <th>48</th>\n      <td>7</td>\n      <td>0</td>\n      <td>0</td>\n      <td>0</td>\n      <td>0</td>\n      <td>0</td>\n      <td>0</td>\n      <td>0</td>\n      <td>0</td>\n      <td>0</td>\n      <td>0</td>\n      <td>0</td>\n      <td>0</td>\n      <td>0</td>\n      <td>0.0</td>\n      <td>0.0</td>\n      <td>0.0</td>\n      <td>0.0</td>\n      <td>0</td>\n      <td>False</td>\n    </tr>\n    <tr>\n      <th>72</th>\n      <td>2</td>\n      <td>0</td>\n      <td>0</td>\n      <td>0</td>\n      <td>0</td>\n      <td>0</td>\n      <td>0</td>\n      <td>0</td>\n      <td>0</td>\n      <td>0</td>\n      <td>0</td>\n      <td>0</td>\n      <td>0</td>\n      <td>0</td>\n      <td>0.0</td>\n      <td>0.0</td>\n      <td>0.0</td>\n      <td>0.0</td>\n      <td>0</td>\n      <td>False</td>\n    </tr>\n  </tbody>\n</table>\n</div>",
      "text/plain": "    fixture_id  stats.minutes  stats.goals_scored  stats.assists  \\\nid                                                                 \n14          10             90                   0              0   \n27           6              0                   0              0   \n47           7             90                   0              0   \n48           7              0                   0              0   \n72           2              0                   0              0   \n\n    stats.clean_sheets  stats.goals_conceded  stats.own_goals  \\\nid                                                              \n14                   1                     0                0   \n27                   0                     0                0   \n47                   1                     0                0   \n48                   0                     0                0   \n72                   0                     0                0   \n\n    stats.penalties_saved  stats.penalties_missed  stats.yellow_cards  \\\nid                                                                      \n14                      0                       0                   0   \n27                      0                       0                   0   \n47                      0                       0                   0   \n48                      0                       0                   0   \n72                      0                       0                   0   \n\n    stats.red_cards  stats.saves  stats.bonus  stats.bps  stats.influence  \\\nid                                                                          \n14                0            2            1         27             18.0   \n27                0            0            0          0              0.0   \n47                0            3            2         29             25.4   \n48                0            0            0          0              0.0   \n72                0            0            0          0              0.0   \n\n    stats.creativity  stats.threat  stats.ict_index  stats.total_points  \\\nid                                                                        \n14               0.0           0.0              1.8                   7   \n27               0.0           0.0              0.0                   0   \n47               0.0           0.0              2.5                   9   \n48               0.0           0.0              0.0                   0   \n72               0.0           0.0              0.0                   0   \n\n    stats.in_dreamteam  \nid                      \n14               False  \n27               False  \n47               False  \n48               False  \n72               False  "
     },
     "execution_count": 20,
     "metadata": {},
     "output_type": "execute_result"
    }
   ],
   "source": [
    "df2.head()"
   ]
  },
  {
   "cell_type": "code",
   "execution_count": 21,
   "metadata": {},
   "outputs": [
    {
     "data": {
      "text/plain": "fixture_id                  int32\nstats.minutes               int64\nstats.goals_scored          int64\nstats.assists               int64\nstats.clean_sheets          int64\nstats.goals_conceded        int64\nstats.own_goals             int64\nstats.penalties_saved       int64\nstats.penalties_missed      int64\nstats.yellow_cards          int64\nstats.red_cards             int64\nstats.saves                 int64\nstats.bonus                 int64\nstats.bps                   int64\nstats.influence           float64\nstats.creativity          float64\nstats.threat              float64\nstats.ict_index           float64\nstats.total_points          int64\nstats.in_dreamteam           bool\ndtype: object"
     },
     "execution_count": 21,
     "metadata": {},
     "output_type": "execute_result"
    }
   ],
   "source": [
    "df2.dtypes"
   ]
  },
  {
   "cell_type": "code",
   "execution_count": 22,
   "metadata": {},
   "outputs": [],
   "source": [
    "for i in range(1,28):\n",
    "    df=pd.read_csv('C:/Users/nath1/Documents/CS/105/project/player_gw/player_gw'+str(i)+'.csv')\n",
    "    df.set_index('id',inplace=True)\n",
    "    df=df.drop(columns=['Unnamed: 0'])\n",
    "    df['explain']=df['explain'].str[13:]\n",
    "    df['explain']=df['explain'].str[:4]\n",
    "    df['explain']=df['explain'].str.strip(', \\'')\n",
    "    df.rename(columns={'explain':'fixture_id'},inplace=True)\n",
    "    df=df[df['fixture_id']!='']\n",
    "    df['fixture_id']=df['fixture_id'].astype(int)\n",
    "    df['gw']=i\n",
    "    df.to_csv('C:/Users/nath1/Documents/CS/105/project/player_gw_clean/player_gw_clean'+str(i)+'.csv')"
   ]
  },
  {
   "cell_type": "markdown",
   "metadata": {},
   "source": [
    "Executes above cleaning process to all player gw files. Also removes players who did not play for a given gameweek (blank gameweek). Above code block also adds a feature that shows what gameweek the player's stats are from. "
   ]
  },
  {
   "cell_type": "code",
   "execution_count": 23,
   "metadata": {},
   "outputs": [],
   "source": [
    "df_all=pd.read_csv('C:/Users/nath1/Documents/CS/105/project/player_gw_clean/player_gw_clean1.csv')\n",
    "for i in range(2,28):\n",
    "    df_temp=pd.read_csv('C:/Users/nath1/Documents/CS/105/project/player_gw_clean/player_gw_clean'+str(i)+'.csv')\n",
    "    df_all=pd.concat([df_all,df_temp],axis=0)\n",
    "df_all.to_csv('C:/Users/nath1/Documents/CS/105/project/player_gw_clean/player_gw_clean_all.csv')"
   ]
  },
  {
   "cell_type": "markdown",
   "metadata": {},
   "source": [
    "Concatenates all player_gw files into one csv file."
   ]
  },
  {
   "cell_type": "markdown",
   "metadata": {},
   "source": [
    "## Teams Data Cleaning"
   ]
  },
  {
   "cell_type": "code",
   "execution_count": 24,
   "metadata": {},
   "outputs": [],
   "source": [
    "df3=pd.read_csv('data/teams.csv')"
   ]
  },
  {
   "cell_type": "code",
   "execution_count": 25,
   "metadata": {},
   "outputs": [
    {
     "data": {
      "text/html": "<div>\n<style scoped>\n    .dataframe tbody tr th:only-of-type {\n        vertical-align: middle;\n    }\n\n    .dataframe tbody tr th {\n        vertical-align: top;\n    }\n\n    .dataframe thead th {\n        text-align: right;\n    }\n</style>\n<table border=\"1\" class=\"dataframe\">\n  <thead>\n    <tr style=\"text-align: right;\">\n      <th></th>\n      <th>Unnamed: 0</th>\n      <th>code</th>\n      <th>draw</th>\n      <th>form</th>\n      <th>id</th>\n      <th>loss</th>\n      <th>name</th>\n      <th>played</th>\n      <th>points</th>\n      <th>position</th>\n      <th>...</th>\n      <th>strength</th>\n      <th>team_division</th>\n      <th>unavailable</th>\n      <th>win</th>\n      <th>strength_overall_home</th>\n      <th>strength_overall_away</th>\n      <th>strength_attack_home</th>\n      <th>strength_attack_away</th>\n      <th>strength_defence_home</th>\n      <th>strength_defence_away</th>\n    </tr>\n  </thead>\n  <tbody>\n    <tr>\n      <th>0</th>\n      <td>0</td>\n      <td>3</td>\n      <td>0</td>\n      <td>NaN</td>\n      <td>1</td>\n      <td>0</td>\n      <td>Arsenal</td>\n      <td>0</td>\n      <td>0</td>\n      <td>0</td>\n      <td>...</td>\n      <td>4</td>\n      <td>NaN</td>\n      <td>False</td>\n      <td>0</td>\n      <td>1230</td>\n      <td>1270</td>\n      <td>1150</td>\n      <td>1190</td>\n      <td>1280</td>\n      <td>1330</td>\n    </tr>\n    <tr>\n      <th>1</th>\n      <td>1</td>\n      <td>7</td>\n      <td>0</td>\n      <td>NaN</td>\n      <td>2</td>\n      <td>0</td>\n      <td>Aston Villa</td>\n      <td>0</td>\n      <td>0</td>\n      <td>0</td>\n      <td>...</td>\n      <td>2</td>\n      <td>NaN</td>\n      <td>False</td>\n      <td>0</td>\n      <td>1040</td>\n      <td>1080</td>\n      <td>1030</td>\n      <td>1060</td>\n      <td>1030</td>\n      <td>1050</td>\n    </tr>\n    <tr>\n      <th>2</th>\n      <td>2</td>\n      <td>91</td>\n      <td>0</td>\n      <td>NaN</td>\n      <td>3</td>\n      <td>0</td>\n      <td>Bournemouth</td>\n      <td>0</td>\n      <td>0</td>\n      <td>0</td>\n      <td>...</td>\n      <td>3</td>\n      <td>NaN</td>\n      <td>False</td>\n      <td>0</td>\n      <td>1090</td>\n      <td>1120</td>\n      <td>1030</td>\n      <td>1070</td>\n      <td>1110</td>\n      <td>1180</td>\n    </tr>\n    <tr>\n      <th>3</th>\n      <td>3</td>\n      <td>36</td>\n      <td>0</td>\n      <td>NaN</td>\n      <td>4</td>\n      <td>0</td>\n      <td>Brighton</td>\n      <td>0</td>\n      <td>0</td>\n      <td>0</td>\n      <td>...</td>\n      <td>3</td>\n      <td>NaN</td>\n      <td>False</td>\n      <td>0</td>\n      <td>1050</td>\n      <td>1120</td>\n      <td>1040</td>\n      <td>1160</td>\n      <td>1030</td>\n      <td>1130</td>\n    </tr>\n    <tr>\n      <th>4</th>\n      <td>4</td>\n      <td>90</td>\n      <td>0</td>\n      <td>NaN</td>\n      <td>5</td>\n      <td>0</td>\n      <td>Burnley</td>\n      <td>0</td>\n      <td>0</td>\n      <td>0</td>\n      <td>...</td>\n      <td>3</td>\n      <td>NaN</td>\n      <td>False</td>\n      <td>0</td>\n      <td>1050</td>\n      <td>1110</td>\n      <td>1060</td>\n      <td>1130</td>\n      <td>1050</td>\n      <td>1050</td>\n    </tr>\n  </tbody>\n</table>\n<p>5 rows × 21 columns</p>\n</div>",
      "text/plain": "   Unnamed: 0  code  draw  form  id  loss         name  played  points  \\\n0           0     3     0   NaN   1     0      Arsenal       0       0   \n1           1     7     0   NaN   2     0  Aston Villa       0       0   \n2           2    91     0   NaN   3     0  Bournemouth       0       0   \n3           3    36     0   NaN   4     0     Brighton       0       0   \n4           4    90     0   NaN   5     0      Burnley       0       0   \n\n   position  ... strength  team_division  unavailable  win  \\\n0         0  ...        4            NaN        False    0   \n1         0  ...        2            NaN        False    0   \n2         0  ...        3            NaN        False    0   \n3         0  ...        3            NaN        False    0   \n4         0  ...        3            NaN        False    0   \n\n   strength_overall_home  strength_overall_away  strength_attack_home  \\\n0                   1230                   1270                  1150   \n1                   1040                   1080                  1030   \n2                   1090                   1120                  1030   \n3                   1050                   1120                  1040   \n4                   1050                   1110                  1060   \n\n   strength_attack_away  strength_defence_home  strength_defence_away  \n0                  1190                   1280                   1330  \n1                  1060                   1030                   1050  \n2                  1070                   1110                   1180  \n3                  1160                   1030                   1130  \n4                  1130                   1050                   1050  \n\n[5 rows x 21 columns]"
     },
     "execution_count": 25,
     "metadata": {},
     "output_type": "execute_result"
    }
   ],
   "source": [
    "df3.head()"
   ]
  },
  {
   "cell_type": "code",
   "execution_count": 26,
   "metadata": {},
   "outputs": [],
   "source": [
    "df3.set_index('id',inplace=True)"
   ]
  },
  {
   "cell_type": "markdown",
   "metadata": {},
   "source": [
    "Uses unique identifier already given in data."
   ]
  },
  {
   "cell_type": "code",
   "execution_count": 27,
   "metadata": {},
   "outputs": [
    {
     "data": {
      "text/plain": "Index(['Unnamed: 0', 'code', 'draw', 'form', 'loss', 'name', 'played',\n       'points', 'position', 'short_name', 'strength', 'team_division',\n       'unavailable', 'win', 'strength_overall_home', 'strength_overall_away',\n       'strength_attack_home', 'strength_attack_away', 'strength_defence_home',\n       'strength_defence_away'],\n      dtype='object')"
     },
     "execution_count": 27,
     "metadata": {},
     "output_type": "execute_result"
    }
   ],
   "source": [
    "df3.columns"
   ]
  },
  {
   "cell_type": "code",
   "execution_count": 28,
   "metadata": {},
   "outputs": [],
   "source": [
    "df3=df3.drop(columns=['Unnamed: 0','draw', 'form','loss','played','points', 'position','team_division','unavailable', 'win'])"
   ]
  },
  {
   "cell_type": "markdown",
   "metadata": {},
   "source": [
    "Removes features that are not valuable to analysis. Unnamed: 0 is irrelevant data, as before. Draw, form, loss, played, points, position, team division, unavailable and win all are either null,NaN or irrelevant."
   ]
  },
  {
   "cell_type": "code",
   "execution_count": 29,
   "metadata": {},
   "outputs": [
    {
     "data": {
      "text/html": "<div>\n<style scoped>\n    .dataframe tbody tr th:only-of-type {\n        vertical-align: middle;\n    }\n\n    .dataframe tbody tr th {\n        vertical-align: top;\n    }\n\n    .dataframe thead th {\n        text-align: right;\n    }\n</style>\n<table border=\"1\" class=\"dataframe\">\n  <thead>\n    <tr style=\"text-align: right;\">\n      <th></th>\n      <th>code</th>\n      <th>name</th>\n      <th>short_name</th>\n      <th>strength</th>\n      <th>strength_overall_home</th>\n      <th>strength_overall_away</th>\n      <th>strength_attack_home</th>\n      <th>strength_attack_away</th>\n      <th>strength_defence_home</th>\n      <th>strength_defence_away</th>\n    </tr>\n    <tr>\n      <th>id</th>\n      <th></th>\n      <th></th>\n      <th></th>\n      <th></th>\n      <th></th>\n      <th></th>\n      <th></th>\n      <th></th>\n      <th></th>\n      <th></th>\n    </tr>\n  </thead>\n  <tbody>\n    <tr>\n      <th>1</th>\n      <td>3</td>\n      <td>Arsenal</td>\n      <td>ARS</td>\n      <td>4</td>\n      <td>1230</td>\n      <td>1270</td>\n      <td>1150</td>\n      <td>1190</td>\n      <td>1280</td>\n      <td>1330</td>\n    </tr>\n    <tr>\n      <th>2</th>\n      <td>7</td>\n      <td>Aston Villa</td>\n      <td>AVL</td>\n      <td>2</td>\n      <td>1040</td>\n      <td>1080</td>\n      <td>1030</td>\n      <td>1060</td>\n      <td>1030</td>\n      <td>1050</td>\n    </tr>\n    <tr>\n      <th>3</th>\n      <td>91</td>\n      <td>Bournemouth</td>\n      <td>BOU</td>\n      <td>3</td>\n      <td>1090</td>\n      <td>1120</td>\n      <td>1030</td>\n      <td>1070</td>\n      <td>1110</td>\n      <td>1180</td>\n    </tr>\n    <tr>\n      <th>4</th>\n      <td>36</td>\n      <td>Brighton</td>\n      <td>BHA</td>\n      <td>3</td>\n      <td>1050</td>\n      <td>1120</td>\n      <td>1040</td>\n      <td>1160</td>\n      <td>1030</td>\n      <td>1130</td>\n    </tr>\n    <tr>\n      <th>5</th>\n      <td>90</td>\n      <td>Burnley</td>\n      <td>BUR</td>\n      <td>3</td>\n      <td>1050</td>\n      <td>1110</td>\n      <td>1060</td>\n      <td>1130</td>\n      <td>1050</td>\n      <td>1050</td>\n    </tr>\n  </tbody>\n</table>\n</div>",
      "text/plain": "    code         name short_name  strength  strength_overall_home  \\\nid                                                                  \n1      3      Arsenal        ARS         4                   1230   \n2      7  Aston Villa        AVL         2                   1040   \n3     91  Bournemouth        BOU         3                   1090   \n4     36     Brighton        BHA         3                   1050   \n5     90      Burnley        BUR         3                   1050   \n\n    strength_overall_away  strength_attack_home  strength_attack_away  \\\nid                                                                      \n1                    1270                  1150                  1190   \n2                    1080                  1030                  1060   \n3                    1120                  1030                  1070   \n4                    1120                  1040                  1160   \n5                    1110                  1060                  1130   \n\n    strength_defence_home  strength_defence_away  \nid                                                \n1                    1280                   1330  \n2                    1030                   1050  \n3                    1110                   1180  \n4                    1030                   1130  \n5                    1050                   1050  "
     },
     "execution_count": 29,
     "metadata": {},
     "output_type": "execute_result"
    }
   ],
   "source": [
    "df3.head()"
   ]
  },
  {
   "cell_type": "code",
   "execution_count": 30,
   "metadata": {},
   "outputs": [
    {
     "data": {
      "text/plain": "code                      int64\nname                     object\nshort_name               object\nstrength                  int64\nstrength_overall_home     int64\nstrength_overall_away     int64\nstrength_attack_home      int64\nstrength_attack_away      int64\nstrength_defence_home     int64\nstrength_defence_away     int64\ndtype: object"
     },
     "execution_count": 30,
     "metadata": {},
     "output_type": "execute_result"
    }
   ],
   "source": [
    "df3.dtypes"
   ]
  },
  {
   "cell_type": "code",
   "execution_count": 31,
   "metadata": {},
   "outputs": [],
   "source": [
    "df3.to_csv('C:/Users/nath1/Documents/CS/105/project/data_clean/teams_clean.csv')"
   ]
  },
  {
   "cell_type": "markdown",
   "metadata": {},
   "source": [
    "Cleaned data file saved."
   ]
  },
  {
   "cell_type": "markdown",
   "metadata": {},
   "source": [
    "## Events (Gameweeks) Data Cleaning"
   ]
  },
  {
   "cell_type": "code",
   "execution_count": 32,
   "metadata": {},
   "outputs": [],
   "source": [
    "df4=pd.read_csv('data/events.csv')"
   ]
  },
  {
   "cell_type": "code",
   "execution_count": 33,
   "metadata": {},
   "outputs": [],
   "source": [
    "df4.set_index('id',inplace=True)"
   ]
  },
  {
   "cell_type": "markdown",
   "metadata": {},
   "source": [
    "Using given unique identifier"
   ]
  },
  {
   "cell_type": "code",
   "execution_count": 34,
   "metadata": {},
   "outputs": [
    {
     "data": {
      "text/html": "<div>\n<style scoped>\n    .dataframe tbody tr th:only-of-type {\n        vertical-align: middle;\n    }\n\n    .dataframe tbody tr th {\n        vertical-align: top;\n    }\n\n    .dataframe thead th {\n        text-align: right;\n    }\n</style>\n<table border=\"1\" class=\"dataframe\">\n  <thead>\n    <tr style=\"text-align: right;\">\n      <th></th>\n      <th>Unnamed: 0</th>\n      <th>name</th>\n      <th>deadline_time</th>\n      <th>average_entry_score</th>\n      <th>finished</th>\n      <th>data_checked</th>\n      <th>highest_scoring_entry</th>\n      <th>deadline_time_epoch</th>\n      <th>deadline_time_game_offset</th>\n      <th>highest_score</th>\n      <th>...</th>\n      <th>chip_plays</th>\n      <th>most_selected</th>\n      <th>most_transferred_in</th>\n      <th>top_element</th>\n      <th>transfers_made</th>\n      <th>most_captained</th>\n      <th>most_vice_captained</th>\n      <th>top_element_info.id</th>\n      <th>top_element_info.points</th>\n      <th>top_element_info</th>\n    </tr>\n    <tr>\n      <th>id</th>\n      <th></th>\n      <th></th>\n      <th></th>\n      <th></th>\n      <th></th>\n      <th></th>\n      <th></th>\n      <th></th>\n      <th></th>\n      <th></th>\n      <th></th>\n      <th></th>\n      <th></th>\n      <th></th>\n      <th></th>\n      <th></th>\n      <th></th>\n      <th></th>\n      <th></th>\n      <th></th>\n      <th></th>\n    </tr>\n  </thead>\n  <tbody>\n    <tr>\n      <th>1</th>\n      <td>0</td>\n      <td>Gameweek 1</td>\n      <td>2019-08-09T18:00:00Z</td>\n      <td>65</td>\n      <td>True</td>\n      <td>False</td>\n      <td>3493085.0</td>\n      <td>1565373600</td>\n      <td>0</td>\n      <td>142.0</td>\n      <td>...</td>\n      <td>[{'chip_name': 'bboost', 'num_played': 128770}...</td>\n      <td>183.0</td>\n      <td>1.0</td>\n      <td>214.0</td>\n      <td>0</td>\n      <td>191.0</td>\n      <td>189.0</td>\n      <td>214.0</td>\n      <td>20.0</td>\n      <td>NaN</td>\n    </tr>\n    <tr>\n      <th>2</th>\n      <td>1</td>\n      <td>Gameweek 2</td>\n      <td>2019-08-17T10:30:00Z</td>\n      <td>41</td>\n      <td>True</td>\n      <td>False</td>\n      <td>6106693.0</td>\n      <td>1566037800</td>\n      <td>0</td>\n      <td>119.0</td>\n      <td>...</td>\n      <td>[{'chip_name': 'bboost', 'num_played': 114585}...</td>\n      <td>183.0</td>\n      <td>235.0</td>\n      <td>278.0</td>\n      <td>9998839</td>\n      <td>191.0</td>\n      <td>214.0</td>\n      <td>278.0</td>\n      <td>17.0</td>\n      <td>NaN</td>\n    </tr>\n    <tr>\n      <th>3</th>\n      <td>2</td>\n      <td>Gameweek 3</td>\n      <td>2019-08-23T18:00:00Z</td>\n      <td>44</td>\n      <td>True</td>\n      <td>False</td>\n      <td>5087809.0</td>\n      <td>1566583200</td>\n      <td>0</td>\n      <td>107.0</td>\n      <td>...</td>\n      <td>[{'chip_name': 'bboost', 'num_played': 79958},...</td>\n      <td>183.0</td>\n      <td>278.0</td>\n      <td>191.0</td>\n      <td>13387638</td>\n      <td>214.0</td>\n      <td>191.0</td>\n      <td>191.0</td>\n      <td>15.0</td>\n      <td>NaN</td>\n    </tr>\n    <tr>\n      <th>4</th>\n      <td>3</td>\n      <td>Gameweek 4</td>\n      <td>2019-08-31T10:30:00Z</td>\n      <td>57</td>\n      <td>True</td>\n      <td>False</td>\n      <td>6372519.0</td>\n      <td>1567247400</td>\n      <td>0</td>\n      <td>136.0</td>\n      <td>...</td>\n      <td>[{'chip_name': 'bboost', 'num_played': 72741},...</td>\n      <td>183.0</td>\n      <td>278.0</td>\n      <td>166.0</td>\n      <td>13215999</td>\n      <td>214.0</td>\n      <td>191.0</td>\n      <td>166.0</td>\n      <td>16.0</td>\n      <td>NaN</td>\n    </tr>\n    <tr>\n      <th>5</th>\n      <td>4</td>\n      <td>Gameweek 5</td>\n      <td>2019-09-14T10:30:00Z</td>\n      <td>52</td>\n      <td>True</td>\n      <td>False</td>\n      <td>6223449.0</td>\n      <td>1568457000</td>\n      <td>0</td>\n      <td>128.0</td>\n      <td>...</td>\n      <td>[{'chip_name': 'bboost', 'num_played': 58835},...</td>\n      <td>183.0</td>\n      <td>243.0</td>\n      <td>342.0</td>\n      <td>12363678</td>\n      <td>191.0</td>\n      <td>214.0</td>\n      <td>342.0</td>\n      <td>16.0</td>\n      <td>NaN</td>\n    </tr>\n  </tbody>\n</table>\n<p>5 rows × 23 columns</p>\n</div>",
      "text/plain": "    Unnamed: 0        name         deadline_time  average_entry_score  \\\nid                                                                      \n1            0  Gameweek 1  2019-08-09T18:00:00Z                   65   \n2            1  Gameweek 2  2019-08-17T10:30:00Z                   41   \n3            2  Gameweek 3  2019-08-23T18:00:00Z                   44   \n4            3  Gameweek 4  2019-08-31T10:30:00Z                   57   \n5            4  Gameweek 5  2019-09-14T10:30:00Z                   52   \n\n    finished  data_checked  highest_scoring_entry  deadline_time_epoch  \\\nid                                                                       \n1       True         False              3493085.0           1565373600   \n2       True         False              6106693.0           1566037800   \n3       True         False              5087809.0           1566583200   \n4       True         False              6372519.0           1567247400   \n5       True         False              6223449.0           1568457000   \n\n    deadline_time_game_offset  highest_score  ...  \\\nid                                            ...   \n1                           0          142.0  ...   \n2                           0          119.0  ...   \n3                           0          107.0  ...   \n4                           0          136.0  ...   \n5                           0          128.0  ...   \n\n                                           chip_plays  most_selected  \\\nid                                                                     \n1   [{'chip_name': 'bboost', 'num_played': 128770}...          183.0   \n2   [{'chip_name': 'bboost', 'num_played': 114585}...          183.0   \n3   [{'chip_name': 'bboost', 'num_played': 79958},...          183.0   \n4   [{'chip_name': 'bboost', 'num_played': 72741},...          183.0   \n5   [{'chip_name': 'bboost', 'num_played': 58835},...          183.0   \n\n    most_transferred_in top_element  transfers_made  most_captained  \\\nid                                                                    \n1                   1.0       214.0               0           191.0   \n2                 235.0       278.0         9998839           191.0   \n3                 278.0       191.0        13387638           214.0   \n4                 278.0       166.0        13215999           214.0   \n5                 243.0       342.0        12363678           191.0   \n\n    most_vice_captained  top_element_info.id  top_element_info.points  \\\nid                                                                      \n1                 189.0                214.0                     20.0   \n2                 214.0                278.0                     17.0   \n3                 191.0                191.0                     15.0   \n4                 191.0                166.0                     16.0   \n5                 214.0                342.0                     16.0   \n\n    top_element_info  \nid                    \n1                NaN  \n2                NaN  \n3                NaN  \n4                NaN  \n5                NaN  \n\n[5 rows x 23 columns]"
     },
     "execution_count": 34,
     "metadata": {},
     "output_type": "execute_result"
    }
   ],
   "source": [
    "df4.head()"
   ]
  },
  {
   "cell_type": "code",
   "execution_count": 35,
   "metadata": {},
   "outputs": [
    {
     "data": {
      "text/plain": "Index(['Unnamed: 0', 'name', 'deadline_time', 'average_entry_score',\n       'finished', 'data_checked', 'highest_scoring_entry',\n       'deadline_time_epoch', 'deadline_time_game_offset', 'highest_score',\n       'is_previous', 'is_current', 'is_next', 'chip_plays', 'most_selected',\n       'most_transferred_in', 'top_element', 'transfers_made',\n       'most_captained', 'most_vice_captained', 'top_element_info.id',\n       'top_element_info.points', 'top_element_info'],\n      dtype='object')"
     },
     "execution_count": 35,
     "metadata": {},
     "output_type": "execute_result"
    }
   ],
   "source": [
    "df4.columns"
   ]
  },
  {
   "cell_type": "code",
   "execution_count": 36,
   "metadata": {},
   "outputs": [],
   "source": [
    "df4.drop(columns=['Unnamed: 0','data_checked', 'highest_scoring_entry','deadline_time_game_offset','is_previous', 'is_current', 'is_next', 'top_element_info'],inplace=True)"
   ]
  },
  {
   "cell_type": "markdown",
   "metadata": {},
   "source": [
    "Unnamed: 0 is again irrelevant data. Data checked, highest scoring entry, deadline time game offset, is previous, is current is next and top element info are all features that are primarily for internal FPL website use and are not important to analysis."
   ]
  },
  {
   "cell_type": "code",
   "execution_count": 37,
   "metadata": {},
   "outputs": [
    {
     "data": {
      "text/html": "<div>\n<style scoped>\n    .dataframe tbody tr th:only-of-type {\n        vertical-align: middle;\n    }\n\n    .dataframe tbody tr th {\n        vertical-align: top;\n    }\n\n    .dataframe thead th {\n        text-align: right;\n    }\n</style>\n<table border=\"1\" class=\"dataframe\">\n  <thead>\n    <tr style=\"text-align: right;\">\n      <th></th>\n      <th>name</th>\n      <th>deadline_time</th>\n      <th>average_entry_score</th>\n      <th>finished</th>\n      <th>deadline_time_epoch</th>\n      <th>highest_score</th>\n      <th>chip_plays</th>\n      <th>most_selected</th>\n      <th>most_transferred_in</th>\n      <th>top_element</th>\n      <th>transfers_made</th>\n      <th>most_captained</th>\n      <th>most_vice_captained</th>\n      <th>top_element_info.id</th>\n      <th>top_element_info.points</th>\n    </tr>\n    <tr>\n      <th>id</th>\n      <th></th>\n      <th></th>\n      <th></th>\n      <th></th>\n      <th></th>\n      <th></th>\n      <th></th>\n      <th></th>\n      <th></th>\n      <th></th>\n      <th></th>\n      <th></th>\n      <th></th>\n      <th></th>\n      <th></th>\n    </tr>\n  </thead>\n  <tbody>\n    <tr>\n      <th>1</th>\n      <td>Gameweek 1</td>\n      <td>2019-08-09T18:00:00Z</td>\n      <td>65</td>\n      <td>True</td>\n      <td>1565373600</td>\n      <td>142.0</td>\n      <td>[{'chip_name': 'bboost', 'num_played': 128770}...</td>\n      <td>183.0</td>\n      <td>1.0</td>\n      <td>214.0</td>\n      <td>0</td>\n      <td>191.0</td>\n      <td>189.0</td>\n      <td>214.0</td>\n      <td>20.0</td>\n    </tr>\n    <tr>\n      <th>2</th>\n      <td>Gameweek 2</td>\n      <td>2019-08-17T10:30:00Z</td>\n      <td>41</td>\n      <td>True</td>\n      <td>1566037800</td>\n      <td>119.0</td>\n      <td>[{'chip_name': 'bboost', 'num_played': 114585}...</td>\n      <td>183.0</td>\n      <td>235.0</td>\n      <td>278.0</td>\n      <td>9998839</td>\n      <td>191.0</td>\n      <td>214.0</td>\n      <td>278.0</td>\n      <td>17.0</td>\n    </tr>\n    <tr>\n      <th>3</th>\n      <td>Gameweek 3</td>\n      <td>2019-08-23T18:00:00Z</td>\n      <td>44</td>\n      <td>True</td>\n      <td>1566583200</td>\n      <td>107.0</td>\n      <td>[{'chip_name': 'bboost', 'num_played': 79958},...</td>\n      <td>183.0</td>\n      <td>278.0</td>\n      <td>191.0</td>\n      <td>13387638</td>\n      <td>214.0</td>\n      <td>191.0</td>\n      <td>191.0</td>\n      <td>15.0</td>\n    </tr>\n    <tr>\n      <th>4</th>\n      <td>Gameweek 4</td>\n      <td>2019-08-31T10:30:00Z</td>\n      <td>57</td>\n      <td>True</td>\n      <td>1567247400</td>\n      <td>136.0</td>\n      <td>[{'chip_name': 'bboost', 'num_played': 72741},...</td>\n      <td>183.0</td>\n      <td>278.0</td>\n      <td>166.0</td>\n      <td>13215999</td>\n      <td>214.0</td>\n      <td>191.0</td>\n      <td>166.0</td>\n      <td>16.0</td>\n    </tr>\n    <tr>\n      <th>5</th>\n      <td>Gameweek 5</td>\n      <td>2019-09-14T10:30:00Z</td>\n      <td>52</td>\n      <td>True</td>\n      <td>1568457000</td>\n      <td>128.0</td>\n      <td>[{'chip_name': 'bboost', 'num_played': 58835},...</td>\n      <td>183.0</td>\n      <td>243.0</td>\n      <td>342.0</td>\n      <td>12363678</td>\n      <td>191.0</td>\n      <td>214.0</td>\n      <td>342.0</td>\n      <td>16.0</td>\n    </tr>\n  </tbody>\n</table>\n</div>",
      "text/plain": "          name         deadline_time  average_entry_score  finished  \\\nid                                                                    \n1   Gameweek 1  2019-08-09T18:00:00Z                   65      True   \n2   Gameweek 2  2019-08-17T10:30:00Z                   41      True   \n3   Gameweek 3  2019-08-23T18:00:00Z                   44      True   \n4   Gameweek 4  2019-08-31T10:30:00Z                   57      True   \n5   Gameweek 5  2019-09-14T10:30:00Z                   52      True   \n\n    deadline_time_epoch  highest_score  \\\nid                                       \n1            1565373600          142.0   \n2            1566037800          119.0   \n3            1566583200          107.0   \n4            1567247400          136.0   \n5            1568457000          128.0   \n\n                                           chip_plays  most_selected  \\\nid                                                                     \n1   [{'chip_name': 'bboost', 'num_played': 128770}...          183.0   \n2   [{'chip_name': 'bboost', 'num_played': 114585}...          183.0   \n3   [{'chip_name': 'bboost', 'num_played': 79958},...          183.0   \n4   [{'chip_name': 'bboost', 'num_played': 72741},...          183.0   \n5   [{'chip_name': 'bboost', 'num_played': 58835},...          183.0   \n\n    most_transferred_in  top_element  transfers_made  most_captained  \\\nid                                                                     \n1                   1.0        214.0               0           191.0   \n2                 235.0        278.0         9998839           191.0   \n3                 278.0        191.0        13387638           214.0   \n4                 278.0        166.0        13215999           214.0   \n5                 243.0        342.0        12363678           191.0   \n\n    most_vice_captained  top_element_info.id  top_element_info.points  \nid                                                                     \n1                 189.0                214.0                     20.0  \n2                 214.0                278.0                     17.0  \n3                 191.0                191.0                     15.0  \n4                 191.0                166.0                     16.0  \n5                 214.0                342.0                     16.0  "
     },
     "execution_count": 37,
     "metadata": {},
     "output_type": "execute_result"
    }
   ],
   "source": [
    "df4.head()"
   ]
  },
  {
   "cell_type": "code",
   "execution_count": 38,
   "metadata": {},
   "outputs": [],
   "source": [
    "df4.dropna(inplace=True)"
   ]
  },
  {
   "cell_type": "markdown",
   "metadata": {},
   "source": [
    "Drops gameweek entries for gameweeks that have not been played yet (28 and above)"
   ]
  },
  {
   "cell_type": "code",
   "execution_count": 39,
   "metadata": {},
   "outputs": [
    {
     "data": {
      "text/plain": "name                        object\ndeadline_time               object\naverage_entry_score          int64\nfinished                      bool\ndeadline_time_epoch          int64\nhighest_score              float64\nchip_plays                  object\nmost_selected              float64\nmost_transferred_in        float64\ntop_element                float64\ntransfers_made               int64\nmost_captained             float64\nmost_vice_captained        float64\ntop_element_info.id        float64\ntop_element_info.points    float64\ndtype: object"
     },
     "execution_count": 39,
     "metadata": {},
     "output_type": "execute_result"
    }
   ],
   "source": [
    "df4.dtypes"
   ]
  },
  {
   "cell_type": "code",
   "execution_count": 40,
   "metadata": {},
   "outputs": [],
   "source": [
    "df4['most_selected']=df4['most_selected'].astype(int)\n",
    "df4['most_transferred_in']=df4['most_transferred_in'].astype(int)\n",
    "df4['top_element']=df4['top_element'].astype(int)\n",
    "df4['most_captained']=df4['most_captained'].astype(int)\n",
    "df4['most_vice_captained']=df4['most_vice_captained'].astype(int)\n",
    "df4['top_element_info.id']=df4['top_element_info.id'].astype(int)"
   ]
  },
  {
   "cell_type": "markdown",
   "metadata": {},
   "source": [
    "corrects data to int data type"
   ]
  },
  {
   "cell_type": "code",
   "execution_count": 41,
   "metadata": {},
   "outputs": [],
   "source": [
    "df4.to_csv('C:/Users/nath1/Documents/CS/105/project/data_clean/events_clean.csv')"
   ]
  },
  {
   "cell_type": "markdown",
   "metadata": {},
   "source": [
    "Saves cleaned events data file"
   ]
  },
  {
   "cell_type": "markdown",
   "metadata": {},
   "source": [
    "## Elements (Players) Data Cleaning"
   ]
  },
  {
   "cell_type": "code",
   "execution_count": 42,
   "metadata": {},
   "outputs": [],
   "source": [
    "df5=pd.read_csv('data/elements.csv')"
   ]
  },
  {
   "cell_type": "code",
   "execution_count": 43,
   "metadata": {},
   "outputs": [
    {
     "data": {
      "text/html": "<div>\n<style scoped>\n    .dataframe tbody tr th:only-of-type {\n        vertical-align: middle;\n    }\n\n    .dataframe tbody tr th {\n        vertical-align: top;\n    }\n\n    .dataframe thead th {\n        text-align: right;\n    }\n</style>\n<table border=\"1\" class=\"dataframe\">\n  <thead>\n    <tr style=\"text-align: right;\">\n      <th></th>\n      <th>Unnamed: 0</th>\n      <th>chance_of_playing_next_round</th>\n      <th>chance_of_playing_this_round</th>\n      <th>code</th>\n      <th>cost_change_event</th>\n      <th>cost_change_event_fall</th>\n      <th>cost_change_start</th>\n      <th>cost_change_start_fall</th>\n      <th>dreamteam_count</th>\n      <th>element_type</th>\n      <th>...</th>\n      <th>penalties_missed</th>\n      <th>yellow_cards</th>\n      <th>red_cards</th>\n      <th>saves</th>\n      <th>bonus</th>\n      <th>bps</th>\n      <th>influence</th>\n      <th>creativity</th>\n      <th>threat</th>\n      <th>ict_index</th>\n    </tr>\n  </thead>\n  <tbody>\n    <tr>\n      <th>0</th>\n      <td>0</td>\n      <td>100.0</td>\n      <td>100.0</td>\n      <td>69140</td>\n      <td>0</td>\n      <td>0</td>\n      <td>-4</td>\n      <td>4</td>\n      <td>0</td>\n      <td>2</td>\n      <td>...</td>\n      <td>0</td>\n      <td>0</td>\n      <td>0</td>\n      <td>0</td>\n      <td>1</td>\n      <td>144</td>\n      <td>174.2</td>\n      <td>15.4</td>\n      <td>107.0</td>\n      <td>29.8</td>\n    </tr>\n    <tr>\n      <th>1</th>\n      <td>1</td>\n      <td>100.0</td>\n      <td>100.0</td>\n      <td>98745</td>\n      <td>0</td>\n      <td>0</td>\n      <td>-1</td>\n      <td>1</td>\n      <td>0</td>\n      <td>2</td>\n      <td>...</td>\n      <td>0</td>\n      <td>2</td>\n      <td>0</td>\n      <td>0</td>\n      <td>3</td>\n      <td>113</td>\n      <td>116.6</td>\n      <td>37.7</td>\n      <td>38.0</td>\n      <td>19.4</td>\n    </tr>\n    <tr>\n      <th>2</th>\n      <td>2</td>\n      <td>0.0</td>\n      <td>100.0</td>\n      <td>111457</td>\n      <td>0</td>\n      <td>0</td>\n      <td>-3</td>\n      <td>3</td>\n      <td>0</td>\n      <td>2</td>\n      <td>...</td>\n      <td>0</td>\n      <td>3</td>\n      <td>0</td>\n      <td>0</td>\n      <td>1</td>\n      <td>222</td>\n      <td>190.0</td>\n      <td>157.3</td>\n      <td>67.0</td>\n      <td>41.2</td>\n    </tr>\n    <tr>\n      <th>3</th>\n      <td>3</td>\n      <td>100.0</td>\n      <td>100.0</td>\n      <td>154043</td>\n      <td>-1</td>\n      <td>1</td>\n      <td>-5</td>\n      <td>5</td>\n      <td>1</td>\n      <td>2</td>\n      <td>...</td>\n      <td>0</td>\n      <td>3</td>\n      <td>1</td>\n      <td>0</td>\n      <td>3</td>\n      <td>216</td>\n      <td>261.8</td>\n      <td>155.4</td>\n      <td>37.0</td>\n      <td>44.9</td>\n    </tr>\n    <tr>\n      <th>4</th>\n      <td>4</td>\n      <td>100.0</td>\n      <td>75.0</td>\n      <td>39476</td>\n      <td>-1</td>\n      <td>1</td>\n      <td>-2</td>\n      <td>2</td>\n      <td>1</td>\n      <td>2</td>\n      <td>...</td>\n      <td>0</td>\n      <td>5</td>\n      <td>0</td>\n      <td>0</td>\n      <td>5</td>\n      <td>286</td>\n      <td>431.6</td>\n      <td>31.8</td>\n      <td>106.0</td>\n      <td>57.1</td>\n    </tr>\n  </tbody>\n</table>\n<p>5 rows × 54 columns</p>\n</div>",
      "text/plain": "   Unnamed: 0  chance_of_playing_next_round  chance_of_playing_this_round  \\\n0           0                         100.0                         100.0   \n1           1                         100.0                         100.0   \n2           2                           0.0                         100.0   \n3           3                         100.0                         100.0   \n4           4                         100.0                          75.0   \n\n     code  cost_change_event  cost_change_event_fall  cost_change_start  \\\n0   69140                  0                       0                 -4   \n1   98745                  0                       0                 -1   \n2  111457                  0                       0                 -3   \n3  154043                 -1                       1                 -5   \n4   39476                 -1                       1                 -2   \n\n   cost_change_start_fall  dreamteam_count  element_type  ...  \\\n0                       4                0             2  ...   \n1                       1                0             2  ...   \n2                       3                0             2  ...   \n3                       5                1             2  ...   \n4                       2                1             2  ...   \n\n   penalties_missed  yellow_cards  red_cards saves  bonus  bps  influence  \\\n0                 0             0          0     0      1  144      174.2   \n1                 0             2          0     0      3  113      116.6   \n2                 0             3          0     0      1  222      190.0   \n3                 0             3          1     0      3  216      261.8   \n4                 0             5          0     0      5  286      431.6   \n\n  creativity threat  ict_index  \n0       15.4  107.0       29.8  \n1       37.7   38.0       19.4  \n2      157.3   67.0       41.2  \n3      155.4   37.0       44.9  \n4       31.8  106.0       57.1  \n\n[5 rows x 54 columns]"
     },
     "execution_count": 43,
     "metadata": {},
     "output_type": "execute_result"
    }
   ],
   "source": [
    "df5.head()"
   ]
  },
  {
   "cell_type": "code",
   "execution_count": 44,
   "metadata": {},
   "outputs": [
    {
     "data": {
      "text/plain": "Index(['Unnamed: 0', 'chance_of_playing_next_round',\n       'chance_of_playing_this_round', 'code', 'cost_change_event',\n       'cost_change_event_fall', 'cost_change_start', 'cost_change_start_fall',\n       'dreamteam_count', 'element_type', 'ep_next', 'ep_this', 'event_points',\n       'first_name', 'form', 'id', 'in_dreamteam', 'news', 'news_added',\n       'now_cost', 'photo', 'points_per_game', 'second_name',\n       'selected_by_percent', 'special', 'squad_number', 'status', 'team',\n       'team_code', 'total_points', 'transfers_in', 'transfers_in_event',\n       'transfers_out', 'transfers_out_event', 'value_form', 'value_season',\n       'web_name', 'minutes', 'goals_scored', 'assists', 'clean_sheets',\n       'goals_conceded', 'own_goals', 'penalties_saved', 'penalties_missed',\n       'yellow_cards', 'red_cards', 'saves', 'bonus', 'bps', 'influence',\n       'creativity', 'threat', 'ict_index'],\n      dtype='object')"
     },
     "execution_count": 44,
     "metadata": {},
     "output_type": "execute_result"
    }
   ],
   "source": [
    "df5.columns"
   ]
  },
  {
   "cell_type": "code",
   "execution_count": 45,
   "metadata": {},
   "outputs": [],
   "source": [
    "df5.drop(columns=['Unnamed: 0','chance_of_playing_next_round','chance_of_playing_this_round','cost_change_event','cost_change_event_fall', 'cost_change_start','cost_change_start_fall','dreamteam_count','ep_next', 'ep_this','in_dreamteam','news', 'news_added','photo','special', 'squad_number'], inplace=True)"
   ]
  },
  {
   "cell_type": "markdown",
   "metadata": {},
   "source": [
    "Drops irrelevant data from elements dataframe. Most of these features are for internal use of FPL website and not important to data analysis. chance_of_playing_next_round and chance_of_playing_this_round would be useful, however there is no way to call the api for historical data of this feature, so this data is dropped as there are not enough data points to generate a significant chance of playing predictive model."
   ]
  },
  {
   "cell_type": "code",
   "execution_count": 46,
   "metadata": {},
   "outputs": [
    {
     "data": {
      "text/html": "<div>\n<style scoped>\n    .dataframe tbody tr th:only-of-type {\n        vertical-align: middle;\n    }\n\n    .dataframe tbody tr th {\n        vertical-align: top;\n    }\n\n    .dataframe thead th {\n        text-align: right;\n    }\n</style>\n<table border=\"1\" class=\"dataframe\">\n  <thead>\n    <tr style=\"text-align: right;\">\n      <th></th>\n      <th>code</th>\n      <th>element_type</th>\n      <th>event_points</th>\n      <th>first_name</th>\n      <th>form</th>\n      <th>id</th>\n      <th>now_cost</th>\n      <th>points_per_game</th>\n      <th>second_name</th>\n      <th>selected_by_percent</th>\n      <th>...</th>\n      <th>penalties_missed</th>\n      <th>yellow_cards</th>\n      <th>red_cards</th>\n      <th>saves</th>\n      <th>bonus</th>\n      <th>bps</th>\n      <th>influence</th>\n      <th>creativity</th>\n      <th>threat</th>\n      <th>ict_index</th>\n    </tr>\n  </thead>\n  <tbody>\n    <tr>\n      <th>0</th>\n      <td>69140</td>\n      <td>2</td>\n      <td>1</td>\n      <td>Shkodran</td>\n      <td>4.3</td>\n      <td>1</td>\n      <td>51</td>\n      <td>3.2</td>\n      <td>Mustafi</td>\n      <td>0.4</td>\n      <td>...</td>\n      <td>0</td>\n      <td>0</td>\n      <td>0</td>\n      <td>0</td>\n      <td>1</td>\n      <td>144</td>\n      <td>174.2</td>\n      <td>15.4</td>\n      <td>107.0</td>\n      <td>29.8</td>\n    </tr>\n    <tr>\n      <th>1</th>\n      <td>98745</td>\n      <td>2</td>\n      <td>1</td>\n      <td>Héctor</td>\n      <td>5.0</td>\n      <td>2</td>\n      <td>54</td>\n      <td>3.4</td>\n      <td>Bellerín</td>\n      <td>1.0</td>\n      <td>...</td>\n      <td>0</td>\n      <td>2</td>\n      <td>0</td>\n      <td>0</td>\n      <td>3</td>\n      <td>113</td>\n      <td>116.6</td>\n      <td>37.7</td>\n      <td>38.0</td>\n      <td>19.4</td>\n    </tr>\n    <tr>\n      <th>2</th>\n      <td>111457</td>\n      <td>2</td>\n      <td>1</td>\n      <td>Sead</td>\n      <td>0.3</td>\n      <td>3</td>\n      <td>52</td>\n      <td>2.1</td>\n      <td>Kolasinac</td>\n      <td>0.5</td>\n      <td>...</td>\n      <td>0</td>\n      <td>3</td>\n      <td>0</td>\n      <td>0</td>\n      <td>1</td>\n      <td>222</td>\n      <td>190.0</td>\n      <td>157.3</td>\n      <td>67.0</td>\n      <td>41.2</td>\n    </tr>\n    <tr>\n      <th>3</th>\n      <td>154043</td>\n      <td>2</td>\n      <td>0</td>\n      <td>Ainsley</td>\n      <td>0.0</td>\n      <td>4</td>\n      <td>45</td>\n      <td>2.6</td>\n      <td>Maitland-Niles</td>\n      <td>2.4</td>\n      <td>...</td>\n      <td>0</td>\n      <td>3</td>\n      <td>1</td>\n      <td>0</td>\n      <td>3</td>\n      <td>216</td>\n      <td>261.8</td>\n      <td>155.4</td>\n      <td>37.0</td>\n      <td>44.9</td>\n    </tr>\n    <tr>\n      <th>4</th>\n      <td>39476</td>\n      <td>2</td>\n      <td>0</td>\n      <td>Sokratis</td>\n      <td>0.0</td>\n      <td>5</td>\n      <td>48</td>\n      <td>2.9</td>\n      <td>Papastathopoulos</td>\n      <td>1.3</td>\n      <td>...</td>\n      <td>0</td>\n      <td>5</td>\n      <td>0</td>\n      <td>0</td>\n      <td>5</td>\n      <td>286</td>\n      <td>431.6</td>\n      <td>31.8</td>\n      <td>106.0</td>\n      <td>57.1</td>\n    </tr>\n  </tbody>\n</table>\n<p>5 rows × 38 columns</p>\n</div>",
      "text/plain": "     code  element_type  event_points first_name  form  id  now_cost  \\\n0   69140             2             1   Shkodran   4.3   1        51   \n1   98745             2             1     Héctor   5.0   2        54   \n2  111457             2             1       Sead   0.3   3        52   \n3  154043             2             0    Ainsley   0.0   4        45   \n4   39476             2             0   Sokratis   0.0   5        48   \n\n   points_per_game       second_name  selected_by_percent  ...  \\\n0              3.2           Mustafi                  0.4  ...   \n1              3.4          Bellerín                  1.0  ...   \n2              2.1         Kolasinac                  0.5  ...   \n3              2.6    Maitland-Niles                  2.4  ...   \n4              2.9  Papastathopoulos                  1.3  ...   \n\n  penalties_missed  yellow_cards  red_cards  saves  bonus  bps  influence  \\\n0                0             0          0      0      1  144      174.2   \n1                0             2          0      0      3  113      116.6   \n2                0             3          0      0      1  222      190.0   \n3                0             3          1      0      3  216      261.8   \n4                0             5          0      0      5  286      431.6   \n\n   creativity  threat  ict_index  \n0        15.4   107.0       29.8  \n1        37.7    38.0       19.4  \n2       157.3    67.0       41.2  \n3       155.4    37.0       44.9  \n4        31.8   106.0       57.1  \n\n[5 rows x 38 columns]"
     },
     "execution_count": 46,
     "metadata": {},
     "output_type": "execute_result"
    }
   ],
   "source": [
    "df5.head()"
   ]
  },
  {
   "cell_type": "code",
   "execution_count": 47,
   "metadata": {},
   "outputs": [],
   "source": [
    "for n in range (len(df5)):\n",
    "    name=df5.iloc[n,3]\n",
    "    lname=df5.iloc[n,8]\n",
    "    df5.iloc[n,3]= (unicodedata.normalize('NFKD', name).encode('ascii', 'ignore')).decode('utf-8')\n",
    "    df5.iloc[n,8] = (unicodedata.normalize('NFKD', lname).encode('ascii', 'ignore')).decode('utf-8')"
   ]
  },
  {
   "cell_type": "markdown",
   "metadata": {},
   "source": [
    "Above code removes accents within player names"
   ]
  },
  {
   "cell_type": "code",
   "execution_count": 48,
   "metadata": {},
   "outputs": [
    {
     "data": {
      "text/html": "<div>\n<style scoped>\n    .dataframe tbody tr th:only-of-type {\n        vertical-align: middle;\n    }\n\n    .dataframe tbody tr th {\n        vertical-align: top;\n    }\n\n    .dataframe thead th {\n        text-align: right;\n    }\n</style>\n<table border=\"1\" class=\"dataframe\">\n  <thead>\n    <tr style=\"text-align: right;\">\n      <th></th>\n      <th>code</th>\n      <th>element_type</th>\n      <th>event_points</th>\n      <th>first_name</th>\n      <th>form</th>\n      <th>id</th>\n      <th>now_cost</th>\n      <th>points_per_game</th>\n      <th>second_name</th>\n      <th>selected_by_percent</th>\n      <th>...</th>\n      <th>penalties_missed</th>\n      <th>yellow_cards</th>\n      <th>red_cards</th>\n      <th>saves</th>\n      <th>bonus</th>\n      <th>bps</th>\n      <th>influence</th>\n      <th>creativity</th>\n      <th>threat</th>\n      <th>ict_index</th>\n    </tr>\n  </thead>\n  <tbody>\n    <tr>\n      <th>0</th>\n      <td>69140</td>\n      <td>2</td>\n      <td>1</td>\n      <td>Shkodran</td>\n      <td>4.3</td>\n      <td>1</td>\n      <td>51</td>\n      <td>3.2</td>\n      <td>Mustafi</td>\n      <td>0.4</td>\n      <td>...</td>\n      <td>0</td>\n      <td>0</td>\n      <td>0</td>\n      <td>0</td>\n      <td>1</td>\n      <td>144</td>\n      <td>174.2</td>\n      <td>15.4</td>\n      <td>107.0</td>\n      <td>29.8</td>\n    </tr>\n    <tr>\n      <th>1</th>\n      <td>98745</td>\n      <td>2</td>\n      <td>1</td>\n      <td>Hector</td>\n      <td>5.0</td>\n      <td>2</td>\n      <td>54</td>\n      <td>3.4</td>\n      <td>Bellerin</td>\n      <td>1.0</td>\n      <td>...</td>\n      <td>0</td>\n      <td>2</td>\n      <td>0</td>\n      <td>0</td>\n      <td>3</td>\n      <td>113</td>\n      <td>116.6</td>\n      <td>37.7</td>\n      <td>38.0</td>\n      <td>19.4</td>\n    </tr>\n    <tr>\n      <th>2</th>\n      <td>111457</td>\n      <td>2</td>\n      <td>1</td>\n      <td>Sead</td>\n      <td>0.3</td>\n      <td>3</td>\n      <td>52</td>\n      <td>2.1</td>\n      <td>Kolasinac</td>\n      <td>0.5</td>\n      <td>...</td>\n      <td>0</td>\n      <td>3</td>\n      <td>0</td>\n      <td>0</td>\n      <td>1</td>\n      <td>222</td>\n      <td>190.0</td>\n      <td>157.3</td>\n      <td>67.0</td>\n      <td>41.2</td>\n    </tr>\n    <tr>\n      <th>3</th>\n      <td>154043</td>\n      <td>2</td>\n      <td>0</td>\n      <td>Ainsley</td>\n      <td>0.0</td>\n      <td>4</td>\n      <td>45</td>\n      <td>2.6</td>\n      <td>Maitland-Niles</td>\n      <td>2.4</td>\n      <td>...</td>\n      <td>0</td>\n      <td>3</td>\n      <td>1</td>\n      <td>0</td>\n      <td>3</td>\n      <td>216</td>\n      <td>261.8</td>\n      <td>155.4</td>\n      <td>37.0</td>\n      <td>44.9</td>\n    </tr>\n    <tr>\n      <th>4</th>\n      <td>39476</td>\n      <td>2</td>\n      <td>0</td>\n      <td>Sokratis</td>\n      <td>0.0</td>\n      <td>5</td>\n      <td>48</td>\n      <td>2.9</td>\n      <td>Papastathopoulos</td>\n      <td>1.3</td>\n      <td>...</td>\n      <td>0</td>\n      <td>5</td>\n      <td>0</td>\n      <td>0</td>\n      <td>5</td>\n      <td>286</td>\n      <td>431.6</td>\n      <td>31.8</td>\n      <td>106.0</td>\n      <td>57.1</td>\n    </tr>\n  </tbody>\n</table>\n<p>5 rows × 38 columns</p>\n</div>",
      "text/plain": "     code  element_type  event_points first_name  form  id  now_cost  \\\n0   69140             2             1   Shkodran   4.3   1        51   \n1   98745             2             1     Hector   5.0   2        54   \n2  111457             2             1       Sead   0.3   3        52   \n3  154043             2             0    Ainsley   0.0   4        45   \n4   39476             2             0   Sokratis   0.0   5        48   \n\n   points_per_game       second_name  selected_by_percent  ...  \\\n0              3.2           Mustafi                  0.4  ...   \n1              3.4          Bellerin                  1.0  ...   \n2              2.1         Kolasinac                  0.5  ...   \n3              2.6    Maitland-Niles                  2.4  ...   \n4              2.9  Papastathopoulos                  1.3  ...   \n\n  penalties_missed  yellow_cards  red_cards  saves  bonus  bps  influence  \\\n0                0             0          0      0      1  144      174.2   \n1                0             2          0      0      3  113      116.6   \n2                0             3          0      0      1  222      190.0   \n3                0             3          1      0      3  216      261.8   \n4                0             5          0      0      5  286      431.6   \n\n   creativity  threat  ict_index  \n0        15.4   107.0       29.8  \n1        37.7    38.0       19.4  \n2       157.3    67.0       41.2  \n3       155.4    37.0       44.9  \n4        31.8   106.0       57.1  \n\n[5 rows x 38 columns]"
     },
     "execution_count": 48,
     "metadata": {},
     "output_type": "execute_result"
    }
   ],
   "source": [
    "df5.head()"
   ]
  },
  {
   "cell_type": "code",
   "execution_count": 49,
   "metadata": {},
   "outputs": [
    {
     "data": {
      "text/plain": "code                     int64\nelement_type             int64\nevent_points             int64\nfirst_name              object\nform                   float64\nid                       int64\nnow_cost                 int64\npoints_per_game        float64\nsecond_name             object\nselected_by_percent    float64\nstatus                  object\nteam                     int64\nteam_code                int64\ntotal_points             int64\ntransfers_in             int64\ntransfers_in_event       int64\ntransfers_out            int64\ntransfers_out_event      int64\nvalue_form             float64\nvalue_season           float64\nweb_name                object\nminutes                  int64\ngoals_scored             int64\nassists                  int64\nclean_sheets             int64\ngoals_conceded           int64\nown_goals                int64\npenalties_saved          int64\npenalties_missed         int64\nyellow_cards             int64\nred_cards                int64\nsaves                    int64\nbonus                    int64\nbps                      int64\ninfluence              float64\ncreativity             float64\nthreat                 float64\nict_index              float64\ndtype: object"
     },
     "execution_count": 49,
     "metadata": {},
     "output_type": "execute_result"
    }
   ],
   "source": [
    "df5.dtypes"
   ]
  },
  {
   "cell_type": "code",
   "execution_count": 50,
   "metadata": {},
   "outputs": [],
   "source": [
    "df5.to_csv('C:/Users/nath1/Documents/CS/105/project/data_clean/elements_clean.csv')"
   ]
  },
  {
   "cell_type": "markdown",
   "metadata": {},
   "source": [
    "Saves cleaned elements data"
   ]
  }
 ]
}