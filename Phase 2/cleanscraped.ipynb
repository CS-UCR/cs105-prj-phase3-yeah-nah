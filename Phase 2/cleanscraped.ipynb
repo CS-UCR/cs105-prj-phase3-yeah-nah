{
 "nbformat": 4,
 "nbformat_minor": 2,
 "metadata": {
  "language_info": {
   "name": "python",
   "codemirror_mode": {
    "name": "ipython",
    "version": 3
   },
   "version": "3.8.1-final"
  },
  "orig_nbformat": 2,
  "file_extension": ".py",
  "mimetype": "text/x-python",
  "name": "python",
  "npconvert_exporter": "python",
  "pygments_lexer": "ipython3",
  "version": 3,
  "kernelspec": {
   "name": "python38132bit85bd24598f7e4575af25ce7fa37bd907",
   "display_name": "Python 3.8.1 32-bit"
  }
 },
 "cells": [
  {
   "cell_type": "markdown",
   "metadata": {},
   "source": [
    "# Scrape Cleaning"
   ]
  },
  {
   "cell_type": "code",
   "execution_count": 1,
   "metadata": {},
   "outputs": [],
   "source": [
    "import pandas as pd\n",
    "import numpy as np"
   ]
  },
  {
   "cell_type": "code",
   "execution_count": 2,
   "metadata": {},
   "outputs": [],
   "source": [
    "api=pd.read_csv(\"data_clean/elements_clean.csv\")"
   ]
  },
  {
   "cell_type": "code",
   "execution_count": 3,
   "metadata": {},
   "outputs": [],
   "source": [
    "scrape=pd.read_csv('playerinfo_week1.csv')"
   ]
  },
  {
   "cell_type": "code",
   "execution_count": 4,
   "metadata": {},
   "outputs": [
    {
     "data": {
      "text/html": "<div>\n<style scoped>\n    .dataframe tbody tr th:only-of-type {\n        vertical-align: middle;\n    }\n\n    .dataframe tbody tr th {\n        vertical-align: top;\n    }\n\n    .dataframe thead th {\n        text-align: right;\n    }\n</style>\n<table border=\"1\" class=\"dataframe\">\n  <thead>\n    <tr style=\"text-align: right;\">\n      <th></th>\n      <th>Unnamed: 0</th>\n      <th>code</th>\n      <th>element_type</th>\n      <th>event_points</th>\n      <th>first_name</th>\n      <th>form</th>\n      <th>id</th>\n      <th>now_cost</th>\n      <th>points_per_game</th>\n      <th>second_name</th>\n      <th>...</th>\n      <th>penalties_missed</th>\n      <th>yellow_cards</th>\n      <th>red_cards</th>\n      <th>saves</th>\n      <th>bonus</th>\n      <th>bps</th>\n      <th>influence</th>\n      <th>creativity</th>\n      <th>threat</th>\n      <th>ict_index</th>\n    </tr>\n  </thead>\n  <tbody>\n    <tr>\n      <th>0</th>\n      <td>0</td>\n      <td>69140</td>\n      <td>2</td>\n      <td>1</td>\n      <td>Shkodran</td>\n      <td>4.3</td>\n      <td>1</td>\n      <td>51</td>\n      <td>3.2</td>\n      <td>Mustafi</td>\n      <td>...</td>\n      <td>0</td>\n      <td>0</td>\n      <td>0</td>\n      <td>0</td>\n      <td>1</td>\n      <td>144</td>\n      <td>174.2</td>\n      <td>15.4</td>\n      <td>107.0</td>\n      <td>29.8</td>\n    </tr>\n    <tr>\n      <th>1</th>\n      <td>1</td>\n      <td>98745</td>\n      <td>2</td>\n      <td>1</td>\n      <td>Hector</td>\n      <td>5.0</td>\n      <td>2</td>\n      <td>54</td>\n      <td>3.4</td>\n      <td>Bellerin</td>\n      <td>...</td>\n      <td>0</td>\n      <td>2</td>\n      <td>0</td>\n      <td>0</td>\n      <td>3</td>\n      <td>113</td>\n      <td>116.6</td>\n      <td>37.7</td>\n      <td>38.0</td>\n      <td>19.4</td>\n    </tr>\n    <tr>\n      <th>2</th>\n      <td>2</td>\n      <td>111457</td>\n      <td>2</td>\n      <td>1</td>\n      <td>Sead</td>\n      <td>0.3</td>\n      <td>3</td>\n      <td>52</td>\n      <td>2.1</td>\n      <td>Kolasinac</td>\n      <td>...</td>\n      <td>0</td>\n      <td>3</td>\n      <td>0</td>\n      <td>0</td>\n      <td>1</td>\n      <td>222</td>\n      <td>190.0</td>\n      <td>157.3</td>\n      <td>67.0</td>\n      <td>41.2</td>\n    </tr>\n    <tr>\n      <th>3</th>\n      <td>3</td>\n      <td>154043</td>\n      <td>2</td>\n      <td>0</td>\n      <td>Ainsley</td>\n      <td>0.0</td>\n      <td>4</td>\n      <td>45</td>\n      <td>2.6</td>\n      <td>Maitland-Niles</td>\n      <td>...</td>\n      <td>0</td>\n      <td>3</td>\n      <td>1</td>\n      <td>0</td>\n      <td>3</td>\n      <td>216</td>\n      <td>261.8</td>\n      <td>155.4</td>\n      <td>37.0</td>\n      <td>44.9</td>\n    </tr>\n    <tr>\n      <th>4</th>\n      <td>4</td>\n      <td>39476</td>\n      <td>2</td>\n      <td>0</td>\n      <td>Sokratis</td>\n      <td>0.0</td>\n      <td>5</td>\n      <td>48</td>\n      <td>2.9</td>\n      <td>Papastathopoulos</td>\n      <td>...</td>\n      <td>0</td>\n      <td>5</td>\n      <td>0</td>\n      <td>0</td>\n      <td>5</td>\n      <td>286</td>\n      <td>431.6</td>\n      <td>31.8</td>\n      <td>106.0</td>\n      <td>57.1</td>\n    </tr>\n  </tbody>\n</table>\n<p>5 rows × 39 columns</p>\n</div>",
      "text/plain": "   Unnamed: 0    code  element_type  event_points first_name  form  id  \\\n0           0   69140             2             1   Shkodran   4.3   1   \n1           1   98745             2             1     Hector   5.0   2   \n2           2  111457             2             1       Sead   0.3   3   \n3           3  154043             2             0    Ainsley   0.0   4   \n4           4   39476             2             0   Sokratis   0.0   5   \n\n   now_cost  points_per_game       second_name  ...  penalties_missed  \\\n0        51              3.2           Mustafi  ...                 0   \n1        54              3.4          Bellerin  ...                 0   \n2        52              2.1         Kolasinac  ...                 0   \n3        45              2.6    Maitland-Niles  ...                 0   \n4        48              2.9  Papastathopoulos  ...                 0   \n\n  yellow_cards  red_cards  saves  bonus  bps  influence  creativity  threat  \\\n0            0          0      0      1  144      174.2        15.4   107.0   \n1            2          0      0      3  113      116.6        37.7    38.0   \n2            3          0      0      1  222      190.0       157.3    67.0   \n3            3          1      0      3  216      261.8       155.4    37.0   \n4            5          0      0      5  286      431.6        31.8   106.0   \n\n   ict_index  \n0       29.8  \n1       19.4  \n2       41.2  \n3       44.9  \n4       57.1  \n\n[5 rows x 39 columns]"
     },
     "execution_count": 4,
     "metadata": {},
     "output_type": "execute_result"
    }
   ],
   "source": [
    "api.head()"
   ]
  },
  {
   "cell_type": "code",
   "execution_count": 5,
   "metadata": {},
   "outputs": [
    {
     "data": {
      "text/html": "<div>\n<style scoped>\n    .dataframe tbody tr th:only-of-type {\n        vertical-align: middle;\n    }\n\n    .dataframe tbody tr th {\n        vertical-align: top;\n    }\n\n    .dataframe thead th {\n        text-align: right;\n    }\n</style>\n<table border=\"1\" class=\"dataframe\">\n  <thead>\n    <tr style=\"text-align: right;\">\n      <th></th>\n      <th>Team</th>\n      <th>First Name</th>\n      <th>Last Name</th>\n      <th>Pos</th>\n      <th>Apps</th>\n      <th>Min</th>\n      <th>G</th>\n      <th>A</th>\n      <th>Sh90</th>\n      <th>KP90</th>\n      <th>xG</th>\n      <th>xA</th>\n    </tr>\n  </thead>\n  <tbody>\n    <tr>\n      <th>0</th>\n      <td>Liverpool</td>\n      <td>Divock</td>\n      <td>Origi</td>\n      <td>F</td>\n      <td>1</td>\n      <td>77</td>\n      <td>1</td>\n      <td>0</td>\n      <td>1.17</td>\n      <td>2.34</td>\n      <td>0.26</td>\n      <td>0.18</td>\n    </tr>\n    <tr>\n      <th>1</th>\n      <td>Liverpool</td>\n      <td>Virgil</td>\n      <td>van Dijk</td>\n      <td>D</td>\n      <td>1</td>\n      <td>90</td>\n      <td>1</td>\n      <td>0</td>\n      <td>1.00</td>\n      <td>0.00</td>\n      <td>0.11</td>\n      <td>0.00</td>\n    </tr>\n    <tr>\n      <th>2</th>\n      <td>Liverpool</td>\n      <td>Mohamed</td>\n      <td>Salah</td>\n      <td>F</td>\n      <td>1</td>\n      <td>90</td>\n      <td>1</td>\n      <td>1</td>\n      <td>2.00</td>\n      <td>3.00</td>\n      <td>0.44</td>\n      <td>0.31</td>\n    </tr>\n    <tr>\n      <th>3</th>\n      <td>Liverpool</td>\n      <td>Roberto</td>\n      <td>Firmino</td>\n      <td>F</td>\n      <td>1</td>\n      <td>89</td>\n      <td>0</td>\n      <td>1</td>\n      <td>4.04</td>\n      <td>1.01</td>\n      <td>0.94</td>\n      <td>0.37</td>\n    </tr>\n    <tr>\n      <th>4</th>\n      <td>Liverpool</td>\n      <td>James</td>\n      <td>Milner</td>\n      <td>S</td>\n      <td>1</td>\n      <td>1</td>\n      <td>0</td>\n      <td>0</td>\n      <td>0.00</td>\n      <td>0.00</td>\n      <td>0.00</td>\n      <td>0.00</td>\n    </tr>\n  </tbody>\n</table>\n</div>",
      "text/plain": "        Team First Name Last Name Pos  Apps  Min  G  A  Sh90  KP90    xG    xA\n0  Liverpool     Divock     Origi   F     1   77  1  0  1.17  2.34  0.26  0.18\n1  Liverpool     Virgil  van Dijk   D     1   90  1  0  1.00  0.00  0.11  0.00\n2  Liverpool    Mohamed     Salah   F     1   90  1  1  2.00  3.00  0.44  0.31\n3  Liverpool    Roberto   Firmino   F     1   89  0  1  4.04  1.01  0.94  0.37\n4  Liverpool      James    Milner   S     1    1  0  0  0.00  0.00  0.00  0.00"
     },
     "execution_count": 5,
     "metadata": {},
     "output_type": "execute_result"
    }
   ],
   "source": [
    "scrape.head()"
   ]
  },
  {
   "cell_type": "code",
   "execution_count": 6,
   "metadata": {},
   "outputs": [],
   "source": [
    "scrape.fillna('',inplace=True)"
   ]
  },
  {
   "cell_type": "code",
   "execution_count": 7,
   "metadata": {},
   "outputs": [],
   "source": [
    "scrape[\"name\"]=scrape[\"First Name\"]+\" \"+scrape[\"Last Name\"]"
   ]
  },
  {
   "cell_type": "code",
   "execution_count": 8,
   "metadata": {},
   "outputs": [],
   "source": [
    "scrape[\"name\"]=scrape[\"name\"].str.strip()"
   ]
  },
  {
   "cell_type": "markdown",
   "metadata": {},
   "source": [
    "Above codeblocks creates full names for scraped players"
   ]
  },
  {
   "cell_type": "code",
   "execution_count": 9,
   "metadata": {},
   "outputs": [
    {
     "data": {
      "text/html": "<div>\n<style scoped>\n    .dataframe tbody tr th:only-of-type {\n        vertical-align: middle;\n    }\n\n    .dataframe tbody tr th {\n        vertical-align: top;\n    }\n\n    .dataframe thead th {\n        text-align: right;\n    }\n</style>\n<table border=\"1\" class=\"dataframe\">\n  <thead>\n    <tr style=\"text-align: right;\">\n      <th></th>\n      <th>Team</th>\n      <th>First Name</th>\n      <th>Last Name</th>\n      <th>Pos</th>\n      <th>Apps</th>\n      <th>Min</th>\n      <th>G</th>\n      <th>A</th>\n      <th>Sh90</th>\n      <th>KP90</th>\n      <th>xG</th>\n      <th>xA</th>\n      <th>name</th>\n    </tr>\n  </thead>\n  <tbody>\n    <tr>\n      <th>0</th>\n      <td>Liverpool</td>\n      <td>Divock</td>\n      <td>Origi</td>\n      <td>F</td>\n      <td>1</td>\n      <td>77</td>\n      <td>1</td>\n      <td>0</td>\n      <td>1.17</td>\n      <td>2.34</td>\n      <td>0.26</td>\n      <td>0.18</td>\n      <td>Divock Origi</td>\n    </tr>\n    <tr>\n      <th>1</th>\n      <td>Liverpool</td>\n      <td>Virgil</td>\n      <td>van Dijk</td>\n      <td>D</td>\n      <td>1</td>\n      <td>90</td>\n      <td>1</td>\n      <td>0</td>\n      <td>1.00</td>\n      <td>0.00</td>\n      <td>0.11</td>\n      <td>0.00</td>\n      <td>Virgil van Dijk</td>\n    </tr>\n    <tr>\n      <th>2</th>\n      <td>Liverpool</td>\n      <td>Mohamed</td>\n      <td>Salah</td>\n      <td>F</td>\n      <td>1</td>\n      <td>90</td>\n      <td>1</td>\n      <td>1</td>\n      <td>2.00</td>\n      <td>3.00</td>\n      <td>0.44</td>\n      <td>0.31</td>\n      <td>Mohamed Salah</td>\n    </tr>\n    <tr>\n      <th>3</th>\n      <td>Liverpool</td>\n      <td>Roberto</td>\n      <td>Firmino</td>\n      <td>F</td>\n      <td>1</td>\n      <td>89</td>\n      <td>0</td>\n      <td>1</td>\n      <td>4.04</td>\n      <td>1.01</td>\n      <td>0.94</td>\n      <td>0.37</td>\n      <td>Roberto Firmino</td>\n    </tr>\n    <tr>\n      <th>4</th>\n      <td>Liverpool</td>\n      <td>James</td>\n      <td>Milner</td>\n      <td>S</td>\n      <td>1</td>\n      <td>1</td>\n      <td>0</td>\n      <td>0</td>\n      <td>0.00</td>\n      <td>0.00</td>\n      <td>0.00</td>\n      <td>0.00</td>\n      <td>James Milner</td>\n    </tr>\n  </tbody>\n</table>\n</div>",
      "text/plain": "        Team First Name Last Name Pos  Apps  Min  G  A  Sh90  KP90    xG  \\\n0  Liverpool     Divock     Origi   F     1   77  1  0  1.17  2.34  0.26   \n1  Liverpool     Virgil  van Dijk   D     1   90  1  0  1.00  0.00  0.11   \n2  Liverpool    Mohamed     Salah   F     1   90  1  1  2.00  3.00  0.44   \n3  Liverpool    Roberto   Firmino   F     1   89  0  1  4.04  1.01  0.94   \n4  Liverpool      James    Milner   S     1    1  0  0  0.00  0.00  0.00   \n\n     xA             name  \n0  0.18     Divock Origi  \n1  0.00  Virgil van Dijk  \n2  0.31    Mohamed Salah  \n3  0.37  Roberto Firmino  \n4  0.00     James Milner  "
     },
     "execution_count": 9,
     "metadata": {},
     "output_type": "execute_result"
    }
   ],
   "source": [
    "scrape.head()"
   ]
  },
  {
   "cell_type": "code",
   "execution_count": 11,
   "metadata": {},
   "outputs": [],
   "source": [
    "for i in range(1,28):\n",
    "    df=pd.read_csv('C:/Users/nath1/Documents/CS/105/project/scrape_players/playerinfo_week'+str(i)+'.csv')\n",
    "    df.fillna('',inplace=True)\n",
    "    df[\"name\"]=df[\"First Name\"]+\" \"+df[\"Last Name\"]\n",
    "    df[\"name\"]=df[\"name\"].str.strip()\n",
    "    df[\"gw\"]=i\n",
    "    df.to_csv('C:/Users/nath1/Documents/CS/105/project/scrape_players_clean/playerinfo_clean_week'+str(i)+'.csv')"
   ]
  },
  {
   "cell_type": "markdown",
   "metadata": {},
   "source": [
    "save all cleaned scraped data"
   ]
  },
  {
   "cell_type": "markdown",
   "metadata": {},
   "source": [
    "## Create Map"
   ]
  },
  {
   "cell_type": "code",
   "execution_count": 12,
   "metadata": {},
   "outputs": [],
   "source": [
    "df_map = api[['id','first_name','second_name']].copy()"
   ]
  },
  {
   "cell_type": "code",
   "execution_count": 13,
   "metadata": {},
   "outputs": [],
   "source": [
    "df_map['name']=df_map[\"first_name\"]+\" \"+df_map[\"second_name\"]"
   ]
  },
  {
   "cell_type": "code",
   "execution_count": 14,
   "metadata": {},
   "outputs": [
    {
     "data": {
      "text/html": "<div>\n<style scoped>\n    .dataframe tbody tr th:only-of-type {\n        vertical-align: middle;\n    }\n\n    .dataframe tbody tr th {\n        vertical-align: top;\n    }\n\n    .dataframe thead th {\n        text-align: right;\n    }\n</style>\n<table border=\"1\" class=\"dataframe\">\n  <thead>\n    <tr style=\"text-align: right;\">\n      <th></th>\n      <th>id</th>\n      <th>first_name</th>\n      <th>second_name</th>\n      <th>name</th>\n    </tr>\n  </thead>\n  <tbody>\n    <tr>\n      <th>0</th>\n      <td>1</td>\n      <td>Shkodran</td>\n      <td>Mustafi</td>\n      <td>Shkodran Mustafi</td>\n    </tr>\n    <tr>\n      <th>1</th>\n      <td>2</td>\n      <td>Hector</td>\n      <td>Bellerin</td>\n      <td>Hector Bellerin</td>\n    </tr>\n    <tr>\n      <th>2</th>\n      <td>3</td>\n      <td>Sead</td>\n      <td>Kolasinac</td>\n      <td>Sead Kolasinac</td>\n    </tr>\n    <tr>\n      <th>3</th>\n      <td>4</td>\n      <td>Ainsley</td>\n      <td>Maitland-Niles</td>\n      <td>Ainsley Maitland-Niles</td>\n    </tr>\n    <tr>\n      <th>4</th>\n      <td>5</td>\n      <td>Sokratis</td>\n      <td>Papastathopoulos</td>\n      <td>Sokratis Papastathopoulos</td>\n    </tr>\n  </tbody>\n</table>\n</div>",
      "text/plain": "   id first_name       second_name                       name\n0   1   Shkodran           Mustafi           Shkodran Mustafi\n1   2     Hector          Bellerin            Hector Bellerin\n2   3       Sead         Kolasinac             Sead Kolasinac\n3   4    Ainsley    Maitland-Niles     Ainsley Maitland-Niles\n4   5   Sokratis  Papastathopoulos  Sokratis Papastathopoulos"
     },
     "execution_count": 14,
     "metadata": {},
     "output_type": "execute_result"
    }
   ],
   "source": [
    "df_map.head()"
   ]
  },
  {
   "cell_type": "markdown",
   "metadata": {},
   "source": [
    "We develop a mapping dataframe that maps player name to FPL ID. This is difficult because scrape and API data use different names for some players, with no real pattern to this difference."
   ]
  },
  {
   "cell_type": "code",
   "execution_count": 15,
   "metadata": {},
   "outputs": [],
   "source": [
    "df_map.drop([\"first_name\",\"second_name\"], axis=1,inplace=True)"
   ]
  },
  {
   "cell_type": "markdown",
   "metadata": {},
   "source": [
    "drop map to only id and full name"
   ]
  },
  {
   "cell_type": "code",
   "execution_count": 16,
   "metadata": {},
   "outputs": [
    {
     "data": {
      "text/html": "<div>\n<style scoped>\n    .dataframe tbody tr th:only-of-type {\n        vertical-align: middle;\n    }\n\n    .dataframe tbody tr th {\n        vertical-align: top;\n    }\n\n    .dataframe thead th {\n        text-align: right;\n    }\n</style>\n<table border=\"1\" class=\"dataframe\">\n  <thead>\n    <tr style=\"text-align: right;\">\n      <th></th>\n      <th>id</th>\n      <th>name</th>\n    </tr>\n  </thead>\n  <tbody>\n    <tr>\n      <th>0</th>\n      <td>1</td>\n      <td>Shkodran Mustafi</td>\n    </tr>\n    <tr>\n      <th>1</th>\n      <td>2</td>\n      <td>Hector Bellerin</td>\n    </tr>\n    <tr>\n      <th>2</th>\n      <td>3</td>\n      <td>Sead Kolasinac</td>\n    </tr>\n    <tr>\n      <th>3</th>\n      <td>4</td>\n      <td>Ainsley Maitland-Niles</td>\n    </tr>\n    <tr>\n      <th>4</th>\n      <td>5</td>\n      <td>Sokratis Papastathopoulos</td>\n    </tr>\n  </tbody>\n</table>\n</div>",
      "text/plain": "   id                       name\n0   1           Shkodran Mustafi\n1   2            Hector Bellerin\n2   3             Sead Kolasinac\n3   4     Ainsley Maitland-Niles\n4   5  Sokratis Papastathopoulos"
     },
     "execution_count": 16,
     "metadata": {},
     "output_type": "execute_result"
    }
   ],
   "source": [
    "df_map.head()"
   ]
  },
  {
   "cell_type": "code",
   "execution_count": 17,
   "metadata": {},
   "outputs": [],
   "source": [
    "df_map.loc[df_map.id==526,\"name\"]=\"Adrian\"\n",
    "df_map.loc[df_map.id==189,\"name\"]=\"Alisson\"\n",
    "df_map.loc[df_map.id==197,\"name\"]=\"Fabinho\"\n",
    "df_map.loc[df_map.id==443,\"name\"]=\"Rodri\"\n",
    "df_map.loc[df_map.id==212,\"name\"]=\"Ederson\"\n",
    "df_map.loc[df_map.id==114,\"name\"]=\"Pedro\"\n",
    "df_map.loc[df_map.id==107,\"name\"]=\"Emerson\"\n",
    "df_map.loc[df_map.id==118,\"name\"]=\"Jorginho\"\n",
    "df_map.loc[df_map.id==111,\"name\"]=\"Kepa\"\n",
    "df_map.loc[df_map.id==402,\"name\"]=\"Jonny\"\n",
    "df_map.loc[df_map.id==5,\"name\"]=\"Sokratis\"\n",
    "df_map.loc[df_map.id==150,\"name\"]=\"Richarlison\"\n",
    "df_map.loc[df_map.id==152,\"name\"]=\"Bernard\"\n",
    "df_map.loc[df_map.id==466,\"name\"]=\"Joelinton\"\n",
    "df_map.loc[df_map.id==39,\"name\"]=\"Bernardo\"\n",
    "df_map.loc[df_map.id==386,\"name\"]=\"Chicharito\"\n",
    "df_map.loc[df_map.id==36,\"name\"]=\"Jota\"\n",
    "df_map.loc[df_map.id==465,\"name\"]=\"Trezeguet\"\n",
    "df_map.loc[df_map.id==428,\"name\"]=\"Wesley\"\n",
    "df_map.loc[df_map.id==211,\"name\"]=\"Gabriel Jesus\"\n",
    "df_map.loc[df_map.id==161,\"name\"]=\"Ben Chilwell\"\n",
    "df_map.loc[df_map.id==159,\"name\"]=\"Ricardo Pereira\"\n",
    "df_map.loc[df_map.id==415,\"name\"]=\"Joao Moutinho\"\n",
    "df_map.loc[df_map.id==411,\"name\"]=\"Rui Patricio\"\n",
    "df_map.loc[df_map.id==414,\"name\"]=\"Ruben Neves\"\n",
    "df_map.loc[df_map.id==469,\"name\"]=\"Dani Ceballos\"\n",
    "df_map.loc[df_map.id==490,\"name\"]=\"Joe Willock\"\n",
    "df_map.loc[df_map.id==504,\"name\"]=\"Gabriel Martinelli\"\n",
    "df_map.loc[df_map.id==422,\"name\"]=\"Andre Gomes\"\n",
    "df_map.loc[df_map.id==328,\"name\"]=\"Oriol Romeu\"\n",
    "df_map.loc[df_map.id==47,\"name\"]=\"Mat Ryan\"\n",
    "df_map.loc[df_map.id==55,\"name\"]=\"Solly March\"\n",
    "df_map.loc[df_map.id==390,\"name\"]=\"Felipe Anderson\"\n",
    "df_map.loc[df_map.id==365,\"name\"]=\"Isaac Success\"\n",
    "df_map.loc[df_map.id==357,\"name\"]=\"Kiko Femenia\"\n",
    "df_map.loc[df_map.id==22,\"name\"]=\"Ahmed Elmohamady\"\n",
    "df_map.loc[df_map.id==470,\"name\"]=\"Douglas Luiz\"\n",
    "df_map.loc[df_map.id==274,\"name\"]=\"Max Aarons\"\n",
    "df_map.loc[df_map.id==221,\"name\"]=\"Fernandinho\"\n",
    "df_map.loc[df_map.id==218,\"name\"]=\"Bernardo Silva\"\n",
    "df_map.loc[df_map.id==177,\"name\"]=\"Matthew James\"\n",
    "df_map.loc[df_map.id==113,\"name\"]=\"Willian\"\n",
    "df_map.loc[df_map.id==618,\"name\"]=\"Bruno Fernandes\"\n",
    "df_map.loc[df_map.id==244,\"name\"]=\"Fred\"\n",
    "df_map.loc[df_map.id==528,\"name\"]=\"Pedro Neto\"\n",
    "df_map.loc[df_map.id==406,\"name\"]=\"Ruben Vinagre\"\n",
    "df_map.loc[df_map.id==13,\"name\"]=\"Eddie Nketiah\"\n",
    "df_map.loc[df_map.id==106,\"name\"]=\"David Luiz\"\n",
    "df_map.loc[df_map.id==623,\"name\"]=\"Borja Baston\"\n",
    "df_map.loc[df_map.id==229,\"name\"]=\"Diogo Dalot\"\n",
    "df_map.loc[df_map.id==619,\"name\"]=\"Daniel Podence\"\n",
    "df_map.loc[df_map.id==518,\"name\"]=\"Joao Cancelo\"\n",
    "df_map.loc[df_map.id==450,\"name\"]=\"Roberto Jimenez\"\n",
    "df_map.loc[df_map.id==576,\"name\"]=\"Emile Smith-Rowe\"\n",
    "df_map.loc[df_map.id==440,\"name\"]=\"Angelino\"\n",
    "df_map.loc[df_map.id==473,\"name\"]=\"Jesus Vallejo\"\n"
   ]
  },
  {
   "cell_type": "markdown",
   "metadata": {},
   "source": [
    "This codeblock is necessary to fix all names that are different between API and scraped data. There was no real elegant solution to this issue as there was no identifiable pattern for when the names were different."
   ]
  },
  {
   "cell_type": "code",
   "execution_count": 18,
   "metadata": {},
   "outputs": [],
   "source": [
    "df_map.to_csv(\"map.csv\")"
   ]
  },
  {
   "cell_type": "markdown",
   "metadata": {},
   "source": [
    "saves df_map"
   ]
  },
  {
   "cell_type": "markdown",
   "metadata": {},
   "source": [
    "## Merge Scrape data with Map"
   ]
  },
  {
   "cell_type": "code",
   "execution_count": 19,
   "metadata": {},
   "outputs": [],
   "source": [
    "for i in range(1,28):\n",
    "    df=pd.read_csv('C:/Users/nath1/Documents/CS/105/project/scrape_players_clean/playerinfo_clean_week'+str(i)+'.csv')\n",
    "    df=pd.merge(df_map,df, how='right', on='name')\n",
    "    df.drop(['Unnamed: 0'],axis=1,inplace=True)\n",
    "    df.to_csv('C:/Users/nath1/Documents/CS/105/project/scrape_players_id/playerinfo_id_week'+str(i)+'.csv')"
   ]
  },
  {
   "cell_type": "markdown",
   "metadata": {},
   "source": [
    "Above code block assigns the id for each player to all scraped player gameweek data"
   ]
  },
  {
   "cell_type": "code",
   "execution_count": 20,
   "metadata": {},
   "outputs": [],
   "source": [
    "df_all=pd.read_csv('C:/Users/nath1/Documents/CS/105/project/scrape_players_id/playerinfo_id_week1.csv')\n",
    "for i in range(2,28):\n",
    "    df_temp=pd.read_csv('C:/Users/nath1/Documents/CS/105/project/scrape_players_id/playerinfo_id_week'+str(i)+'.csv')\n",
    "    df_all=pd.concat([df_all,df_temp],axis=0)\n",
    "df_all.drop(['Unnamed: 0'],axis=1,inplace=True)\n",
    "df_all.to_csv('C:/Users/nath1/Documents/CS/105/project/scrape_players_id/playerinfo_id_week_all.csv')"
   ]
  },
  {
   "cell_type": "markdown",
   "metadata": {},
   "source": [
    "All csvs combined into one large csv file."
   ]
  }
 ]
}